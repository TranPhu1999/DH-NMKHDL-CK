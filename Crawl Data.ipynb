{
 "cells": [
  {
   "cell_type": "markdown",
   "metadata": {},
   "source": [
    "# Import"
   ]
  },
  {
   "cell_type": "code",
   "execution_count": 1,
   "metadata": {
    "ExecuteTime": {
     "end_time": "2021-01-14T04:27:55.200291Z",
     "start_time": "2021-01-14T04:27:54.660122Z"
    }
   },
   "outputs": [],
   "source": [
    "import requests\n",
    "import json\n",
    "import pandas as pd\n",
    "import numpy as np\n",
    "from datetime import datetime"
   ]
  },
  {
   "cell_type": "markdown",
   "metadata": {},
   "source": [
    "# Hàm gọi API"
   ]
  },
  {
   "cell_type": "code",
   "execution_count": null,
   "metadata": {
    "ExecuteTime": {
     "end_time": "2021-01-14T04:27:55.215189Z",
     "start_time": "2021-01-14T04:27:55.207193Z"
    }
   },
   "outputs": [],
   "source": [
    "def make_api_request(key,location,start_day):\n",
    "    lon = location[0]\n",
    "    lat = location[1]\n",
    "    url = f'https://api.openweathermap.org/data/2.5/onecall/timemachine?lat={lat}&lon={lon}&dt={start_day}&appid={key}'\n",
    "    r = requests.get(url)\n",
    "    return r.json()"
   ]
  },
  {
   "cell_type": "markdown",
   "metadata": {},
   "source": [
    "# Dataframe các thành phố sẽ lấy thông tin\n",
    "Bởi vì mỗi lần gọi API của openweathermap chỉ cho lấy dữ liệu theo giờ của 5 ngày trước đó nên ta thực hiện lấy nhiều thành phố thuộc khu vực nam bộ vì các thành phố gần nhau có thể có khí hậu giống nhau"
   ]
  },
  {
   "cell_type": "code",
   "execution_count": 3,
   "metadata": {
    "ExecuteTime": {
     "end_time": "2021-01-14T04:27:55.246209Z",
     "start_time": "2021-01-14T04:27:55.220195Z"
    }
   },
   "outputs": [
    {
     "data": {
      "text/html": [
       "<div>\n",
       "<style scoped>\n",
       "    .dataframe tbody tr th:only-of-type {\n",
       "        vertical-align: middle;\n",
       "    }\n",
       "\n",
       "    .dataframe tbody tr th {\n",
       "        vertical-align: top;\n",
       "    }\n",
       "\n",
       "    .dataframe thead th {\n",
       "        text-align: right;\n",
       "    }\n",
       "</style>\n",
       "<table border=\"1\" class=\"dataframe\">\n",
       "  <thead>\n",
       "    <tr style=\"text-align: right;\">\n",
       "      <th></th>\n",
       "      <th>THU DAU MOT</th>\n",
       "      <th>THANH PHO HO CHI MINH</th>\n",
       "      <th>TAY NINH</th>\n",
       "      <th>TAN AN</th>\n",
       "      <th>SA DEC</th>\n",
       "      <th>RACH GIA</th>\n",
       "      <th>MY THO</th>\n",
       "      <th>LONG XUYEN</th>\n",
       "      <th>HA TIEN</th>\n",
       "      <th>CU CHI</th>\n",
       "      <th>CHAU DOC</th>\n",
       "      <th>CAN THO</th>\n",
       "      <th>CAN GIO</th>\n",
       "    </tr>\n",
       "  </thead>\n",
       "  <tbody>\n",
       "    <tr>\n",
       "      <th>long</th>\n",
       "      <td>106.650002</td>\n",
       "      <td>106.666672</td>\n",
       "      <td>106.099998</td>\n",
       "      <td>106.416672</td>\n",
       "      <td>105.76667</td>\n",
       "      <td>105.083328</td>\n",
       "      <td>106.349998</td>\n",
       "      <td>105.416672</td>\n",
       "      <td>104.48333</td>\n",
       "      <td>106.466667</td>\n",
       "      <td>105.116669</td>\n",
       "      <td>105.783333</td>\n",
       "      <td>106.966667</td>\n",
       "    </tr>\n",
       "    <tr>\n",
       "      <th>lat</th>\n",
       "      <td>10.966670</td>\n",
       "      <td>10.750000</td>\n",
       "      <td>11.300000</td>\n",
       "      <td>10.533330</td>\n",
       "      <td>10.30000</td>\n",
       "      <td>10.016670</td>\n",
       "      <td>10.350000</td>\n",
       "      <td>10.383330</td>\n",
       "      <td>10.38333</td>\n",
       "      <td>10.966670</td>\n",
       "      <td>10.700000</td>\n",
       "      <td>10.033330</td>\n",
       "      <td>10.416670</td>\n",
       "    </tr>\n",
       "  </tbody>\n",
       "</table>\n",
       "</div>"
      ],
      "text/plain": [
       "      THU DAU MOT  THANH PHO HO CHI MINH    TAY NINH      TAN AN     SA DEC  \\\n",
       "long   106.650002             106.666672  106.099998  106.416672  105.76667   \n",
       "lat     10.966670              10.750000   11.300000   10.533330   10.30000   \n",
       "\n",
       "        RACH GIA      MY THO  LONG XUYEN    HA TIEN      CU CHI    CHAU DOC  \\\n",
       "long  105.083328  106.349998  105.416672  104.48333  106.466667  105.116669   \n",
       "lat    10.016670   10.350000   10.383330   10.38333   10.966670   10.700000   \n",
       "\n",
       "         CAN THO     CAN GIO  \n",
       "long  105.783333  106.966667  \n",
       "lat    10.033330   10.416670  "
      ]
     },
     "execution_count": 3,
     "metadata": {},
     "output_type": "execute_result"
    }
   ],
   "source": [
    "coords = [[106.650002,106.666672,106.099998,106.416672,105.76667,105.083328,106.349998,105.416672,104.48333,106.466667,\n",
    "           105.116669,105.783333,106.966667],\n",
    "          [10.96667,10.75,11.3,10.53333,10.3,10.01667,10.35,10.38333,10.38333,10.96667,10.7,10.03333,10.41667]]\n",
    "city_names = [\"THU DAU MOT\",\"THANH PHO HO CHI MINH\",\"TAY NINH\",\"TAN AN\",\"SA DEC\",\"RACH GIA\",\"MY THO\",\"LONG XUYEN\",\n",
    "                 \"HA TIEN\",\"CU CHI\",\"CHAU DOC\",\"CAN THO\",\"CAN GIO\"]\n",
    "cities_df = pd.DataFrame(data = coords, columns = city_names, index = [\"long\",\"lat\"])\n",
    "cities_df.head(5)"
   ]
  },
  {
   "cell_type": "markdown",
   "metadata": {},
   "source": [
    "# Thực hiện lấy dữ liệu"
   ]
  },
  {
   "cell_type": "code",
   "execution_count": 4,
   "metadata": {
    "ExecuteTime": {
     "end_time": "2021-01-14T04:27:55.253218Z",
     "start_time": "2021-01-14T04:27:55.248189Z"
    }
   },
   "outputs": [],
   "source": [
    "key = 'db898287c9d4a7e5274c7fbf618e0425'\n",
    "day = [1610150400,1610236800,1610323200,1610409600,1610496000]"
   ]
  },
  {
   "cell_type": "code",
   "execution_count": 9,
   "metadata": {
    "ExecuteTime": {
     "end_time": "2021-01-14T04:30:19.368711Z",
     "start_time": "2021-01-14T04:30:19.356704Z"
    }
   },
   "outputs": [],
   "source": [
    "def get_all_city_info(cities_df,key,day):\n",
    "    columns = ['time','city_name','temp','pressure','humidity','clouds','wind_speed','weather description']\n",
    "    raw_df = pd.DataFrame(columns=columns)\n",
    "    for col in cities_df.columns:\n",
    "        for each_day in day:\n",
    "            location = [cities_df[col][0],cities_df[col][1]]\n",
    "            res = make_api_request(key,location,each_day)\n",
    "            for h in range(0,len(res['hourly'])):\n",
    "                this_hour = res['hourly'][h]\n",
    "                new_row = [datetime.utcfromtimestamp(this_hour['dt']).strftime('%Y-%m-%d %H:%M:%S'),col,\n",
    "                           this_hour['temp'],this_hour['pressure'],this_hour['humidity'],this_hour['clouds'],\n",
    "                           this_hour['wind_speed'],this_hour['weather'][0]['description']]\n",
    "                new_row_sr = pd.Series(new_row,index=columns)\n",
    "                raw_df = raw_df.append(new_row_sr,ignore_index = True)        \n",
    "    return raw_df\n",
    " "
   ]
  },
  {
   "cell_type": "code",
   "execution_count": 10,
   "metadata": {
    "ExecuteTime": {
     "end_time": "2021-01-14T04:31:09.511295Z",
     "start_time": "2021-01-14T04:30:22.402402Z"
    },
    "jupyter": {
     "outputs_hidden": true
    }
   },
   "outputs": [
    {
     "data": {
      "text/html": [
       "<div>\n",
       "<style scoped>\n",
       "    .dataframe tbody tr th:only-of-type {\n",
       "        vertical-align: middle;\n",
       "    }\n",
       "\n",
       "    .dataframe tbody tr th {\n",
       "        vertical-align: top;\n",
       "    }\n",
       "\n",
       "    .dataframe thead th {\n",
       "        text-align: right;\n",
       "    }\n",
       "</style>\n",
       "<table border=\"1\" class=\"dataframe\">\n",
       "  <thead>\n",
       "    <tr style=\"text-align: right;\">\n",
       "      <th></th>\n",
       "      <th>time</th>\n",
       "      <th>city_name</th>\n",
       "      <th>temp</th>\n",
       "      <th>pressure</th>\n",
       "      <th>humidity</th>\n",
       "      <th>clouds</th>\n",
       "      <th>wind_speed</th>\n",
       "      <th>weather description</th>\n",
       "    </tr>\n",
       "  </thead>\n",
       "  <tbody>\n",
       "    <tr>\n",
       "      <th>0</th>\n",
       "      <td>2021-01-09 00:00:00</td>\n",
       "      <td>THU DAU MOT</td>\n",
       "      <td>297.15</td>\n",
       "      <td>1011</td>\n",
       "      <td>69</td>\n",
       "      <td>20</td>\n",
       "      <td>1.54</td>\n",
       "      <td>few clouds</td>\n",
       "    </tr>\n",
       "    <tr>\n",
       "      <th>1</th>\n",
       "      <td>2021-01-09 01:00:00</td>\n",
       "      <td>THU DAU MOT</td>\n",
       "      <td>298.15</td>\n",
       "      <td>1012</td>\n",
       "      <td>65</td>\n",
       "      <td>96</td>\n",
       "      <td>1.54</td>\n",
       "      <td>overcast clouds</td>\n",
       "    </tr>\n",
       "    <tr>\n",
       "      <th>2</th>\n",
       "      <td>2021-01-09 02:00:00</td>\n",
       "      <td>THU DAU MOT</td>\n",
       "      <td>299.15</td>\n",
       "      <td>1012</td>\n",
       "      <td>65</td>\n",
       "      <td>20</td>\n",
       "      <td>1.03</td>\n",
       "      <td>few clouds</td>\n",
       "    </tr>\n",
       "    <tr>\n",
       "      <th>3</th>\n",
       "      <td>2021-01-09 03:00:00</td>\n",
       "      <td>THU DAU MOT</td>\n",
       "      <td>301.15</td>\n",
       "      <td>1012</td>\n",
       "      <td>57</td>\n",
       "      <td>20</td>\n",
       "      <td>2.57</td>\n",
       "      <td>few clouds</td>\n",
       "    </tr>\n",
       "    <tr>\n",
       "      <th>4</th>\n",
       "      <td>2021-01-09 04:00:00</td>\n",
       "      <td>THU DAU MOT</td>\n",
       "      <td>302.15</td>\n",
       "      <td>1011</td>\n",
       "      <td>51</td>\n",
       "      <td>20</td>\n",
       "      <td>1.54</td>\n",
       "      <td>few clouds</td>\n",
       "    </tr>\n",
       "    <tr>\n",
       "      <th>...</th>\n",
       "      <td>...</td>\n",
       "      <td>...</td>\n",
       "      <td>...</td>\n",
       "      <td>...</td>\n",
       "      <td>...</td>\n",
       "      <td>...</td>\n",
       "      <td>...</td>\n",
       "      <td>...</td>\n",
       "    </tr>\n",
       "    <tr>\n",
       "      <th>1555</th>\n",
       "      <td>2021-01-13 19:00:00</td>\n",
       "      <td>CAN GIO</td>\n",
       "      <td>294.15</td>\n",
       "      <td>1010</td>\n",
       "      <td>83</td>\n",
       "      <td>20</td>\n",
       "      <td>1.54</td>\n",
       "      <td>few clouds</td>\n",
       "    </tr>\n",
       "    <tr>\n",
       "      <th>1556</th>\n",
       "      <td>2021-01-13 20:00:00</td>\n",
       "      <td>CAN GIO</td>\n",
       "      <td>293.15</td>\n",
       "      <td>1010</td>\n",
       "      <td>88</td>\n",
       "      <td>20</td>\n",
       "      <td>1.03</td>\n",
       "      <td>few clouds</td>\n",
       "    </tr>\n",
       "    <tr>\n",
       "      <th>1557</th>\n",
       "      <td>2021-01-13 21:00:00</td>\n",
       "      <td>CAN GIO</td>\n",
       "      <td>293.15</td>\n",
       "      <td>1010</td>\n",
       "      <td>88</td>\n",
       "      <td>40</td>\n",
       "      <td>0.51</td>\n",
       "      <td>scattered clouds</td>\n",
       "    </tr>\n",
       "    <tr>\n",
       "      <th>1558</th>\n",
       "      <td>2021-01-13 22:00:00</td>\n",
       "      <td>CAN GIO</td>\n",
       "      <td>292.15</td>\n",
       "      <td>1010</td>\n",
       "      <td>94</td>\n",
       "      <td>40</td>\n",
       "      <td>0.51</td>\n",
       "      <td>scattered clouds</td>\n",
       "    </tr>\n",
       "    <tr>\n",
       "      <th>1559</th>\n",
       "      <td>2021-01-13 23:00:00</td>\n",
       "      <td>CAN GIO</td>\n",
       "      <td>291.15</td>\n",
       "      <td>1011</td>\n",
       "      <td>94</td>\n",
       "      <td>40</td>\n",
       "      <td>1.03</td>\n",
       "      <td>scattered clouds</td>\n",
       "    </tr>\n",
       "  </tbody>\n",
       "</table>\n",
       "<p>1560 rows × 8 columns</p>\n",
       "</div>"
      ],
      "text/plain": [
       "                     time    city_name    temp pressure humidity clouds  \\\n",
       "0     2021-01-09 00:00:00  THU DAU MOT  297.15     1011       69     20   \n",
       "1     2021-01-09 01:00:00  THU DAU MOT  298.15     1012       65     96   \n",
       "2     2021-01-09 02:00:00  THU DAU MOT  299.15     1012       65     20   \n",
       "3     2021-01-09 03:00:00  THU DAU MOT  301.15     1012       57     20   \n",
       "4     2021-01-09 04:00:00  THU DAU MOT  302.15     1011       51     20   \n",
       "...                   ...          ...     ...      ...      ...    ...   \n",
       "1555  2021-01-13 19:00:00      CAN GIO  294.15     1010       83     20   \n",
       "1556  2021-01-13 20:00:00      CAN GIO  293.15     1010       88     20   \n",
       "1557  2021-01-13 21:00:00      CAN GIO  293.15     1010       88     40   \n",
       "1558  2021-01-13 22:00:00      CAN GIO  292.15     1010       94     40   \n",
       "1559  2021-01-13 23:00:00      CAN GIO  291.15     1011       94     40   \n",
       "\n",
       "      wind_speed weather description  \n",
       "0           1.54          few clouds  \n",
       "1           1.54     overcast clouds  \n",
       "2           1.03          few clouds  \n",
       "3           2.57          few clouds  \n",
       "4           1.54          few clouds  \n",
       "...          ...                 ...  \n",
       "1555        1.54          few clouds  \n",
       "1556        1.03          few clouds  \n",
       "1557        0.51    scattered clouds  \n",
       "1558        0.51    scattered clouds  \n",
       "1559        1.03    scattered clouds  \n",
       "\n",
       "[1560 rows x 8 columns]"
      ]
     },
     "execution_count": 10,
     "metadata": {},
     "output_type": "execute_result"
    }
   ],
   "source": [
    "raw_weather_df = get_all_city_info(cities_df,key,day)\n",
    "raw_weather_df"
   ]
  },
  {
   "cell_type": "markdown",
   "metadata": {},
   "source": [
    "# Xuất ra file csv"
   ]
  },
  {
   "cell_type": "code",
   "execution_count": 11,
   "metadata": {
    "ExecuteTime": {
     "end_time": "2021-01-14T04:33:00.145508Z",
     "start_time": "2021-01-14T04:33:00.124418Z"
    }
   },
   "outputs": [],
   "source": [
    "raw_weather_df.to_csv('raw_weather_df.csv')"
   ]
  }
 ],
 "metadata": {
  "kernelspec": {
   "display_name": "Python 3",
   "language": "python",
   "name": "python3"
  },
  "language_info": {
   "codemirror_mode": {
    "name": "ipython",
    "version": 3
   },
   "file_extension": ".py",
   "mimetype": "text/x-python",
   "name": "python",
   "nbconvert_exporter": "python",
   "pygments_lexer": "ipython3",
   "version": "3.7.6"
  },
  "toc": {
   "base_numbering": 1,
   "nav_menu": {},
   "number_sections": true,
   "sideBar": true,
   "skip_h1_title": false,
   "title_cell": "Table of Contents",
   "title_sidebar": "Contents",
   "toc_cell": false,
   "toc_position": {},
   "toc_section_display": true,
   "toc_window_display": true
  },
  "varInspector": {
   "cols": {
    "lenName": 16,
    "lenType": 16,
    "lenVar": 40
   },
   "kernels_config": {
    "python": {
     "delete_cmd_postfix": "",
     "delete_cmd_prefix": "del ",
     "library": "var_list.py",
     "varRefreshCmd": "print(var_dic_list())"
    },
    "r": {
     "delete_cmd_postfix": ") ",
     "delete_cmd_prefix": "rm(",
     "library": "var_list.r",
     "varRefreshCmd": "cat(var_dic_list()) "
    }
   },
   "types_to_exclude": [
    "module",
    "function",
    "builtin_function_or_method",
    "instance",
    "_Feature"
   ],
   "window_display": false
  }
 },
 "nbformat": 4,
 "nbformat_minor": 4
}
