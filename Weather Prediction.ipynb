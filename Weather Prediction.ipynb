{
 "cells": [
  {
   "cell_type": "markdown",
   "metadata": {},
   "source": [
    "# Câu hỏi muốn trả lời\n",
    "Liệu có thể dự đoán thời tiết của 12 tiếng sau bằng cách sử dụng thông tin thời tiết của hiện tại không?"
   ]
  },
  {
   "cell_type": "markdown",
   "metadata": {},
   "source": [
    "# Import"
   ]
  },
  {
   "cell_type": "code",
   "execution_count": 1,
   "metadata": {
    "ExecuteTime": {
     "end_time": "2021-01-15T05:08:52.528309Z",
     "start_time": "2021-01-15T05:08:51.174098Z"
    }
   },
   "outputs": [],
   "source": [
    "%matplotlib inline\n",
    "import matplotlib.pyplot as plt\n",
    "import seaborn as sns # seaborn là thư viện được xây trên matplotlib, giúp việc visualization đỡ khổ hơn\n",
    "import pandas as pd\n",
    "import numpy as np\n",
    "\n",
    "from sklearn.model_selection import train_test_split\n",
    "from sklearn.preprocessing import OneHotEncoder, StandardScaler\n",
    "from sklearn.impute import SimpleImputer\n",
    "from sklearn.base import BaseEstimator, TransformerMixin\n",
    "from sklearn.pipeline import Pipeline, make_pipeline\n",
    "from sklearn.compose import ColumnTransformer, make_column_transformer\n",
    "from sklearn.neural_network import MLPClassifier\n",
    "from sklearn import set_config\n",
    "from datetime import datetime"
   ]
  },
  {
   "cell_type": "markdown",
   "metadata": {},
   "source": [
    "# Đọc dữ liệu"
   ]
  },
  {
   "cell_type": "code",
   "execution_count": 2,
   "metadata": {
    "ExecuteTime": {
     "end_time": "2021-01-15T05:08:52.562091Z",
     "start_time": "2021-01-15T05:08:52.533421Z"
    }
   },
   "outputs": [
    {
     "data": {
      "text/html": [
       "<div>\n",
       "<style scoped>\n",
       "    .dataframe tbody tr th:only-of-type {\n",
       "        vertical-align: middle;\n",
       "    }\n",
       "\n",
       "    .dataframe tbody tr th {\n",
       "        vertical-align: top;\n",
       "    }\n",
       "\n",
       "    .dataframe thead th {\n",
       "        text-align: right;\n",
       "    }\n",
       "</style>\n",
       "<table border=\"1\" class=\"dataframe\">\n",
       "  <thead>\n",
       "    <tr style=\"text-align: right;\">\n",
       "      <th></th>\n",
       "      <th>time</th>\n",
       "      <th>city_name</th>\n",
       "      <th>temp</th>\n",
       "      <th>pressure</th>\n",
       "      <th>humidity</th>\n",
       "      <th>clouds</th>\n",
       "      <th>wind_speed</th>\n",
       "      <th>weather_description</th>\n",
       "    </tr>\n",
       "  </thead>\n",
       "  <tbody>\n",
       "    <tr>\n",
       "      <th>0</th>\n",
       "      <td>2021-01-09 00:00:00</td>\n",
       "      <td>THU DAU MOT</td>\n",
       "      <td>24.0</td>\n",
       "      <td>1011</td>\n",
       "      <td>69</td>\n",
       "      <td>20</td>\n",
       "      <td>1.54</td>\n",
       "      <td>few clouds</td>\n",
       "    </tr>\n",
       "    <tr>\n",
       "      <th>1</th>\n",
       "      <td>2021-01-09 01:00:00</td>\n",
       "      <td>THU DAU MOT</td>\n",
       "      <td>25.0</td>\n",
       "      <td>1012</td>\n",
       "      <td>65</td>\n",
       "      <td>98</td>\n",
       "      <td>1.54</td>\n",
       "      <td>overcast clouds</td>\n",
       "    </tr>\n",
       "    <tr>\n",
       "      <th>2</th>\n",
       "      <td>2021-01-09 02:00:00</td>\n",
       "      <td>THU DAU MOT</td>\n",
       "      <td>26.0</td>\n",
       "      <td>1012</td>\n",
       "      <td>65</td>\n",
       "      <td>20</td>\n",
       "      <td>1.03</td>\n",
       "      <td>few clouds</td>\n",
       "    </tr>\n",
       "    <tr>\n",
       "      <th>3</th>\n",
       "      <td>2021-01-09 03:00:00</td>\n",
       "      <td>THU DAU MOT</td>\n",
       "      <td>28.0</td>\n",
       "      <td>1012</td>\n",
       "      <td>57</td>\n",
       "      <td>20</td>\n",
       "      <td>2.57</td>\n",
       "      <td>few clouds</td>\n",
       "    </tr>\n",
       "    <tr>\n",
       "      <th>4</th>\n",
       "      <td>2021-01-09 04:00:00</td>\n",
       "      <td>THU DAU MOT</td>\n",
       "      <td>29.0</td>\n",
       "      <td>1011</td>\n",
       "      <td>51</td>\n",
       "      <td>20</td>\n",
       "      <td>1.54</td>\n",
       "      <td>few clouds</td>\n",
       "    </tr>\n",
       "  </tbody>\n",
       "</table>\n",
       "</div>"
      ],
      "text/plain": [
       "                  time    city_name  temp  pressure  humidity  clouds  \\\n",
       "0  2021-01-09 00:00:00  THU DAU MOT  24.0      1011        69      20   \n",
       "1  2021-01-09 01:00:00  THU DAU MOT  25.0      1012        65      98   \n",
       "2  2021-01-09 02:00:00  THU DAU MOT  26.0      1012        65      20   \n",
       "3  2021-01-09 03:00:00  THU DAU MOT  28.0      1012        57      20   \n",
       "4  2021-01-09 04:00:00  THU DAU MOT  29.0      1011        51      20   \n",
       "\n",
       "   wind_speed weather_description  \n",
       "0        1.54          few clouds  \n",
       "1        1.54     overcast clouds  \n",
       "2        1.03          few clouds  \n",
       "3        2.57          few clouds  \n",
       "4        1.54          few clouds  "
      ]
     },
     "execution_count": 2,
     "metadata": {},
     "output_type": "execute_result"
    }
   ],
   "source": [
    "raw_weather_df = pd.read_csv('raw_weather_df.csv')\n",
    "raw_weather_df = raw_weather_df.drop(columns = ['Unnamed: 0'])\n",
    "raw_weather_df.head()"
   ]
  },
  {
   "cell_type": "markdown",
   "metadata": {},
   "source": [
    "# Khám phá dữ liệu"
   ]
  },
  {
   "cell_type": "markdown",
   "metadata": {},
   "source": [
    "Ý nghĩa các trường dữ liệu, theo như link API: https://openweathermap.org/api/one-call-api#list1\n",
    "- time: thời gian phép đo đạc được thực hiện, tính theo giờ\n",
    "- city_name: Thành phố nơi các số đo thời thiết được ghi nhận\n",
    "- temp: nhiệt độ \n",
    "- pressure: áp suất không khí\n",
    "- humidity: độ ẩm\n",
    "- cloud: mật độ mây\n",
    "- wind_speed: tốc độ gió\n",
    "- weather description: đặc tả thời tiết, chi tiết các đặc tả này có thể xem tại https://openweathermap.org/weather-conditions#Weather-Condition-Codes-2"
   ]
  },
  {
   "cell_type": "markdown",
   "metadata": {},
   "source": [
    "## Xem số dòng và số cột"
   ]
  },
  {
   "cell_type": "code",
   "execution_count": 3,
   "metadata": {
    "ExecuteTime": {
     "end_time": "2021-01-15T05:08:52.569113Z",
     "start_time": "2021-01-15T05:08:52.563059Z"
    }
   },
   "outputs": [
    {
     "data": {
      "text/plain": [
       "(1560, 8)"
      ]
     },
     "execution_count": 3,
     "metadata": {},
     "output_type": "execute_result"
    }
   ],
   "source": [
    "raw_weather_df.shape"
   ]
  },
  {
   "cell_type": "markdown",
   "metadata": {},
   "source": [
    "## Kiểm tra xem có bị lặp dòng nào không?"
   ]
  },
  {
   "cell_type": "code",
   "execution_count": 4,
   "metadata": {
    "ExecuteTime": {
     "end_time": "2021-01-15T05:08:52.576060Z",
     "start_time": "2021-01-15T05:08:52.571058Z"
    }
   },
   "outputs": [
    {
     "data": {
      "text/plain": [
       "0"
      ]
     },
     "execution_count": 4,
     "metadata": {},
     "output_type": "execute_result"
    }
   ],
   "source": [
    "raw_weather_df.index.duplicated().sum()"
   ]
  },
  {
   "cell_type": "markdown",
   "metadata": {
    "ExecuteTime": {
     "end_time": "2021-01-14T15:01:53.147502Z",
     "start_time": "2021-01-14T15:01:53.144466Z"
    }
   },
   "source": [
    "## Xem tổng quan thông tin các trường dữ liệu"
   ]
  },
  {
   "cell_type": "code",
   "execution_count": 5,
   "metadata": {
    "ExecuteTime": {
     "end_time": "2021-01-15T05:08:52.600062Z",
     "start_time": "2021-01-15T05:08:52.578059Z"
    }
   },
   "outputs": [
    {
     "data": {
      "text/html": [
       "<div>\n",
       "<style scoped>\n",
       "    .dataframe tbody tr th:only-of-type {\n",
       "        vertical-align: middle;\n",
       "    }\n",
       "\n",
       "    .dataframe tbody tr th {\n",
       "        vertical-align: top;\n",
       "    }\n",
       "\n",
       "    .dataframe thead th {\n",
       "        text-align: right;\n",
       "    }\n",
       "</style>\n",
       "<table border=\"1\" class=\"dataframe\">\n",
       "  <thead>\n",
       "    <tr style=\"text-align: right;\">\n",
       "      <th></th>\n",
       "      <th>temp</th>\n",
       "      <th>pressure</th>\n",
       "      <th>humidity</th>\n",
       "      <th>clouds</th>\n",
       "      <th>wind_speed</th>\n",
       "    </tr>\n",
       "  </thead>\n",
       "  <tbody>\n",
       "    <tr>\n",
       "      <th>count</th>\n",
       "      <td>1560.000000</td>\n",
       "      <td>1560.000000</td>\n",
       "      <td>1560.000000</td>\n",
       "      <td>1560.000000</td>\n",
       "      <td>1560.000000</td>\n",
       "    </tr>\n",
       "    <tr>\n",
       "      <th>mean</th>\n",
       "      <td>24.781160</td>\n",
       "      <td>1011.043590</td>\n",
       "      <td>67.594872</td>\n",
       "      <td>32.158974</td>\n",
       "      <td>2.270968</td>\n",
       "    </tr>\n",
       "    <tr>\n",
       "      <th>std</th>\n",
       "      <td>3.372387</td>\n",
       "      <td>1.617146</td>\n",
       "      <td>17.125578</td>\n",
       "      <td>24.656363</td>\n",
       "      <td>1.207018</td>\n",
       "    </tr>\n",
       "    <tr>\n",
       "      <th>min</th>\n",
       "      <td>17.000000</td>\n",
       "      <td>1007.000000</td>\n",
       "      <td>35.000000</td>\n",
       "      <td>0.000000</td>\n",
       "      <td>0.270000</td>\n",
       "    </tr>\n",
       "    <tr>\n",
       "      <th>25%</th>\n",
       "      <td>22.000000</td>\n",
       "      <td>1010.000000</td>\n",
       "      <td>54.000000</td>\n",
       "      <td>20.000000</td>\n",
       "      <td>1.540000</td>\n",
       "    </tr>\n",
       "    <tr>\n",
       "      <th>50%</th>\n",
       "      <td>24.000000</td>\n",
       "      <td>1011.000000</td>\n",
       "      <td>68.000000</td>\n",
       "      <td>20.000000</td>\n",
       "      <td>2.060000</td>\n",
       "    </tr>\n",
       "    <tr>\n",
       "      <th>75%</th>\n",
       "      <td>27.000000</td>\n",
       "      <td>1012.000000</td>\n",
       "      <td>78.000000</td>\n",
       "      <td>40.000000</td>\n",
       "      <td>3.090000</td>\n",
       "    </tr>\n",
       "    <tr>\n",
       "      <th>max</th>\n",
       "      <td>32.610000</td>\n",
       "      <td>1015.000000</td>\n",
       "      <td>100.000000</td>\n",
       "      <td>100.000000</td>\n",
       "      <td>8.530000</td>\n",
       "    </tr>\n",
       "  </tbody>\n",
       "</table>\n",
       "</div>"
      ],
      "text/plain": [
       "              temp     pressure     humidity       clouds   wind_speed\n",
       "count  1560.000000  1560.000000  1560.000000  1560.000000  1560.000000\n",
       "mean     24.781160  1011.043590    67.594872    32.158974     2.270968\n",
       "std       3.372387     1.617146    17.125578    24.656363     1.207018\n",
       "min      17.000000  1007.000000    35.000000     0.000000     0.270000\n",
       "25%      22.000000  1010.000000    54.000000    20.000000     1.540000\n",
       "50%      24.000000  1011.000000    68.000000    20.000000     2.060000\n",
       "75%      27.000000  1012.000000    78.000000    40.000000     3.090000\n",
       "max      32.610000  1015.000000   100.000000   100.000000     8.530000"
      ]
     },
     "execution_count": 5,
     "metadata": {},
     "output_type": "execute_result"
    }
   ],
   "source": [
    "raw_weather_df.describe()"
   ]
  },
  {
   "cell_type": "code",
   "execution_count": 6,
   "metadata": {
    "ExecuteTime": {
     "end_time": "2021-01-15T05:08:52.614070Z",
     "start_time": "2021-01-15T05:08:52.601060Z"
    }
   },
   "outputs": [
    {
     "name": "stdout",
     "output_type": "stream",
     "text": [
      "<class 'pandas.core.frame.DataFrame'>\n",
      "RangeIndex: 1560 entries, 0 to 1559\n",
      "Data columns (total 8 columns):\n",
      " #   Column               Non-Null Count  Dtype  \n",
      "---  ------               --------------  -----  \n",
      " 0   time                 1560 non-null   object \n",
      " 1   city_name            1560 non-null   object \n",
      " 2   temp                 1560 non-null   float64\n",
      " 3   pressure             1560 non-null   int64  \n",
      " 4   humidity             1560 non-null   int64  \n",
      " 5   clouds               1560 non-null   int64  \n",
      " 6   wind_speed           1560 non-null   float64\n",
      " 7   weather_description  1560 non-null   object \n",
      "dtypes: float64(2), int64(3), object(3)\n",
      "memory usage: 97.6+ KB\n"
     ]
    }
   ],
   "source": [
    "raw_weather_df.info()"
   ]
  },
  {
   "cell_type": "markdown",
   "metadata": {},
   "source": [
    "Dữ liệu được lấy bằng API nên có vẻ đầy đủ"
   ]
  },
  {
   "cell_type": "markdown",
   "metadata": {},
   "source": [
    "# Tiền xử lí dữ liệu"
   ]
  },
  {
   "cell_type": "markdown",
   "metadata": {},
   "source": [
    "## Tạo cột output"
   ]
  },
  {
   "cell_type": "markdown",
   "metadata": {},
   "source": [
    "Vì mục tiêu của tụi mình là xem thử có thể dùng dữ liệu thời tiết hiện tại để dự đoán trước 12 tiếng không nên mình sẽ thực hiện tạo thêm một cột weather_description_12 là cột output để lưu mô tả thời tiết của 12 tiếng sau  "
   ]
  },
  {
   "cell_type": "code",
   "execution_count": 7,
   "metadata": {
    "ExecuteTime": {
     "end_time": "2021-01-15T05:08:52.629064Z",
     "start_time": "2021-01-15T05:08:52.617060Z"
    }
   },
   "outputs": [
    {
     "data": {
      "text/html": [
       "<div>\n",
       "<style scoped>\n",
       "    .dataframe tbody tr th:only-of-type {\n",
       "        vertical-align: middle;\n",
       "    }\n",
       "\n",
       "    .dataframe tbody tr th {\n",
       "        vertical-align: top;\n",
       "    }\n",
       "\n",
       "    .dataframe thead th {\n",
       "        text-align: right;\n",
       "    }\n",
       "</style>\n",
       "<table border=\"1\" class=\"dataframe\">\n",
       "  <thead>\n",
       "    <tr style=\"text-align: right;\">\n",
       "      <th></th>\n",
       "      <th>time</th>\n",
       "      <th>city_name</th>\n",
       "      <th>temp</th>\n",
       "      <th>pressure</th>\n",
       "      <th>humidity</th>\n",
       "      <th>clouds</th>\n",
       "      <th>wind_speed</th>\n",
       "      <th>weather_description</th>\n",
       "      <th>weather_description_12</th>\n",
       "    </tr>\n",
       "  </thead>\n",
       "  <tbody>\n",
       "    <tr>\n",
       "      <th>0</th>\n",
       "      <td>2021-01-09 00:00:00</td>\n",
       "      <td>THU DAU MOT</td>\n",
       "      <td>24.0</td>\n",
       "      <td>1011</td>\n",
       "      <td>69</td>\n",
       "      <td>20</td>\n",
       "      <td>1.54</td>\n",
       "      <td>few clouds</td>\n",
       "      <td></td>\n",
       "    </tr>\n",
       "    <tr>\n",
       "      <th>1</th>\n",
       "      <td>2021-01-09 01:00:00</td>\n",
       "      <td>THU DAU MOT</td>\n",
       "      <td>25.0</td>\n",
       "      <td>1012</td>\n",
       "      <td>65</td>\n",
       "      <td>98</td>\n",
       "      <td>1.54</td>\n",
       "      <td>overcast clouds</td>\n",
       "      <td></td>\n",
       "    </tr>\n",
       "    <tr>\n",
       "      <th>2</th>\n",
       "      <td>2021-01-09 02:00:00</td>\n",
       "      <td>THU DAU MOT</td>\n",
       "      <td>26.0</td>\n",
       "      <td>1012</td>\n",
       "      <td>65</td>\n",
       "      <td>20</td>\n",
       "      <td>1.03</td>\n",
       "      <td>few clouds</td>\n",
       "      <td></td>\n",
       "    </tr>\n",
       "    <tr>\n",
       "      <th>3</th>\n",
       "      <td>2021-01-09 03:00:00</td>\n",
       "      <td>THU DAU MOT</td>\n",
       "      <td>28.0</td>\n",
       "      <td>1012</td>\n",
       "      <td>57</td>\n",
       "      <td>20</td>\n",
       "      <td>2.57</td>\n",
       "      <td>few clouds</td>\n",
       "      <td></td>\n",
       "    </tr>\n",
       "    <tr>\n",
       "      <th>4</th>\n",
       "      <td>2021-01-09 04:00:00</td>\n",
       "      <td>THU DAU MOT</td>\n",
       "      <td>29.0</td>\n",
       "      <td>1011</td>\n",
       "      <td>51</td>\n",
       "      <td>20</td>\n",
       "      <td>1.54</td>\n",
       "      <td>few clouds</td>\n",
       "      <td></td>\n",
       "    </tr>\n",
       "  </tbody>\n",
       "</table>\n",
       "</div>"
      ],
      "text/plain": [
       "                  time    city_name  temp  pressure  humidity  clouds  \\\n",
       "0  2021-01-09 00:00:00  THU DAU MOT  24.0      1011        69      20   \n",
       "1  2021-01-09 01:00:00  THU DAU MOT  25.0      1012        65      98   \n",
       "2  2021-01-09 02:00:00  THU DAU MOT  26.0      1012        65      20   \n",
       "3  2021-01-09 03:00:00  THU DAU MOT  28.0      1012        57      20   \n",
       "4  2021-01-09 04:00:00  THU DAU MOT  29.0      1011        51      20   \n",
       "\n",
       "   wind_speed weather_description weather_description_12  \n",
       "0        1.54          few clouds                         \n",
       "1        1.54     overcast clouds                         \n",
       "2        1.03          few clouds                         \n",
       "3        2.57          few clouds                         \n",
       "4        1.54          few clouds                         "
      ]
     },
     "execution_count": 7,
     "metadata": {},
     "output_type": "execute_result"
    }
   ],
   "source": [
    "raw_weather_df.insert(len(raw_weather_df.columns), \"weather_description_12\", \"\")\n",
    "raw_weather_df.head()"
   ]
  },
  {
   "cell_type": "code",
   "execution_count": 8,
   "metadata": {
    "ExecuteTime": {
     "end_time": "2021-01-15T05:08:53.100945Z",
     "start_time": "2021-01-15T05:08:52.631059Z"
    }
   },
   "outputs": [
    {
     "data": {
      "text/html": [
       "<div>\n",
       "<style scoped>\n",
       "    .dataframe tbody tr th:only-of-type {\n",
       "        vertical-align: middle;\n",
       "    }\n",
       "\n",
       "    .dataframe tbody tr th {\n",
       "        vertical-align: top;\n",
       "    }\n",
       "\n",
       "    .dataframe thead th {\n",
       "        text-align: right;\n",
       "    }\n",
       "</style>\n",
       "<table border=\"1\" class=\"dataframe\">\n",
       "  <thead>\n",
       "    <tr style=\"text-align: right;\">\n",
       "      <th></th>\n",
       "      <th>time</th>\n",
       "      <th>city_name</th>\n",
       "      <th>temp</th>\n",
       "      <th>pressure</th>\n",
       "      <th>humidity</th>\n",
       "      <th>clouds</th>\n",
       "      <th>wind_speed</th>\n",
       "      <th>weather_description</th>\n",
       "      <th>weather_description_12</th>\n",
       "    </tr>\n",
       "  </thead>\n",
       "  <tbody>\n",
       "    <tr>\n",
       "      <th>0</th>\n",
       "      <td>2021-01-09 00:00:00</td>\n",
       "      <td>THU DAU MOT</td>\n",
       "      <td>24.0</td>\n",
       "      <td>1011.0</td>\n",
       "      <td>69.0</td>\n",
       "      <td>20.0</td>\n",
       "      <td>1.54</td>\n",
       "      <td>few clouds</td>\n",
       "      <td>scattered clouds</td>\n",
       "    </tr>\n",
       "    <tr>\n",
       "      <th>1</th>\n",
       "      <td>2021-01-09 01:00:00</td>\n",
       "      <td>THU DAU MOT</td>\n",
       "      <td>25.0</td>\n",
       "      <td>1012.0</td>\n",
       "      <td>65.0</td>\n",
       "      <td>98.0</td>\n",
       "      <td>1.54</td>\n",
       "      <td>overcast clouds</td>\n",
       "      <td>scattered clouds</td>\n",
       "    </tr>\n",
       "    <tr>\n",
       "      <th>2</th>\n",
       "      <td>2021-01-09 02:00:00</td>\n",
       "      <td>THU DAU MOT</td>\n",
       "      <td>26.0</td>\n",
       "      <td>1012.0</td>\n",
       "      <td>65.0</td>\n",
       "      <td>20.0</td>\n",
       "      <td>1.03</td>\n",
       "      <td>few clouds</td>\n",
       "      <td>scattered clouds</td>\n",
       "    </tr>\n",
       "    <tr>\n",
       "      <th>3</th>\n",
       "      <td>2021-01-09 03:00:00</td>\n",
       "      <td>THU DAU MOT</td>\n",
       "      <td>28.0</td>\n",
       "      <td>1012.0</td>\n",
       "      <td>57.0</td>\n",
       "      <td>20.0</td>\n",
       "      <td>2.57</td>\n",
       "      <td>few clouds</td>\n",
       "      <td>scattered clouds</td>\n",
       "    </tr>\n",
       "    <tr>\n",
       "      <th>4</th>\n",
       "      <td>2021-01-09 04:00:00</td>\n",
       "      <td>THU DAU MOT</td>\n",
       "      <td>29.0</td>\n",
       "      <td>1011.0</td>\n",
       "      <td>51.0</td>\n",
       "      <td>20.0</td>\n",
       "      <td>1.54</td>\n",
       "      <td>few clouds</td>\n",
       "      <td>scattered clouds</td>\n",
       "    </tr>\n",
       "    <tr>\n",
       "      <th>...</th>\n",
       "      <td>...</td>\n",
       "      <td>...</td>\n",
       "      <td>...</td>\n",
       "      <td>...</td>\n",
       "      <td>...</td>\n",
       "      <td>...</td>\n",
       "      <td>...</td>\n",
       "      <td>...</td>\n",
       "      <td>...</td>\n",
       "    </tr>\n",
       "    <tr>\n",
       "      <th>-5</th>\n",
       "      <td>NaN</td>\n",
       "      <td>NaN</td>\n",
       "      <td>NaN</td>\n",
       "      <td>NaN</td>\n",
       "      <td>NaN</td>\n",
       "      <td>NaN</td>\n",
       "      <td>NaN</td>\n",
       "      <td>NaN</td>\n",
       "      <td>few clouds</td>\n",
       "    </tr>\n",
       "    <tr>\n",
       "      <th>-4</th>\n",
       "      <td>NaN</td>\n",
       "      <td>NaN</td>\n",
       "      <td>NaN</td>\n",
       "      <td>NaN</td>\n",
       "      <td>NaN</td>\n",
       "      <td>NaN</td>\n",
       "      <td>NaN</td>\n",
       "      <td>NaN</td>\n",
       "      <td>scattered clouds</td>\n",
       "    </tr>\n",
       "    <tr>\n",
       "      <th>-3</th>\n",
       "      <td>NaN</td>\n",
       "      <td>NaN</td>\n",
       "      <td>NaN</td>\n",
       "      <td>NaN</td>\n",
       "      <td>NaN</td>\n",
       "      <td>NaN</td>\n",
       "      <td>NaN</td>\n",
       "      <td>NaN</td>\n",
       "      <td>scattered clouds</td>\n",
       "    </tr>\n",
       "    <tr>\n",
       "      <th>-2</th>\n",
       "      <td>NaN</td>\n",
       "      <td>NaN</td>\n",
       "      <td>NaN</td>\n",
       "      <td>NaN</td>\n",
       "      <td>NaN</td>\n",
       "      <td>NaN</td>\n",
       "      <td>NaN</td>\n",
       "      <td>NaN</td>\n",
       "      <td>scattered clouds</td>\n",
       "    </tr>\n",
       "    <tr>\n",
       "      <th>-1</th>\n",
       "      <td>NaN</td>\n",
       "      <td>NaN</td>\n",
       "      <td>NaN</td>\n",
       "      <td>NaN</td>\n",
       "      <td>NaN</td>\n",
       "      <td>NaN</td>\n",
       "      <td>NaN</td>\n",
       "      <td>NaN</td>\n",
       "      <td>scattered clouds</td>\n",
       "    </tr>\n",
       "  </tbody>\n",
       "</table>\n",
       "<p>1572 rows × 9 columns</p>\n",
       "</div>"
      ],
      "text/plain": [
       "                   time    city_name  temp  pressure  humidity  clouds  \\\n",
       " 0  2021-01-09 00:00:00  THU DAU MOT  24.0    1011.0      69.0    20.0   \n",
       " 1  2021-01-09 01:00:00  THU DAU MOT  25.0    1012.0      65.0    98.0   \n",
       " 2  2021-01-09 02:00:00  THU DAU MOT  26.0    1012.0      65.0    20.0   \n",
       " 3  2021-01-09 03:00:00  THU DAU MOT  28.0    1012.0      57.0    20.0   \n",
       " 4  2021-01-09 04:00:00  THU DAU MOT  29.0    1011.0      51.0    20.0   \n",
       "..                  ...          ...   ...       ...       ...     ...   \n",
       "-5                  NaN          NaN   NaN       NaN       NaN     NaN   \n",
       "-4                  NaN          NaN   NaN       NaN       NaN     NaN   \n",
       "-3                  NaN          NaN   NaN       NaN       NaN     NaN   \n",
       "-2                  NaN          NaN   NaN       NaN       NaN     NaN   \n",
       "-1                  NaN          NaN   NaN       NaN       NaN     NaN   \n",
       "\n",
       "    wind_speed weather_description weather_description_12  \n",
       " 0        1.54          few clouds       scattered clouds  \n",
       " 1        1.54     overcast clouds       scattered clouds  \n",
       " 2        1.03          few clouds       scattered clouds  \n",
       " 3        2.57          few clouds       scattered clouds  \n",
       " 4        1.54          few clouds       scattered clouds  \n",
       "..         ...                 ...                    ...  \n",
       "-5         NaN                 NaN             few clouds  \n",
       "-4         NaN                 NaN       scattered clouds  \n",
       "-3         NaN                 NaN       scattered clouds  \n",
       "-2         NaN                 NaN       scattered clouds  \n",
       "-1         NaN                 NaN       scattered clouds  \n",
       "\n",
       "[1572 rows x 9 columns]"
      ]
     },
     "execution_count": 8,
     "metadata": {},
     "output_type": "execute_result"
    }
   ],
   "source": [
    "for row in range(0,raw_weather_df.shape[0]):\n",
    "#     raw_weather_df['weather_description_12'][row+12] = raw_weather_df['weather description'][row]\n",
    "     raw_weather_df.loc[row-12,'weather_description_12'] = raw_weather_df['weather_description'][row]\n",
    "raw_weather_df"
   ]
  },
  {
   "cell_type": "markdown",
   "metadata": {},
   "source": [
    "Khi làm cách này ta sẽ bị dư ra bao gồm 24 dòng, bao gồm 12 dòng rỗng và 12 dòng cuối của dataframe mà cột weather_description_12 không có dữ liệu, chỉ việc bỏ các cột này"
   ]
  },
  {
   "cell_type": "code",
   "execution_count": 9,
   "metadata": {
    "ExecuteTime": {
     "end_time": "2021-01-15T05:08:53.109948Z",
     "start_time": "2021-01-15T05:08:53.101945Z"
    }
   },
   "outputs": [],
   "source": [
    "raw_weather_df = raw_weather_df.dropna()\n",
    "raw_weather_df = raw_weather_df[raw_weather_df['weather_description_12'] != '']"
   ]
  },
  {
   "cell_type": "markdown",
   "metadata": {},
   "source": [
    "Ngoài ta ta sẽ cần loại bỏ 12 dòng cuối của mỗi thành phố vì chúng lẫn với thời tiết thành phố khác"
   ]
  },
  {
   "cell_type": "code",
   "execution_count": 10,
   "metadata": {
    "ExecuteTime": {
     "end_time": "2021-01-15T05:08:53.116065Z",
     "start_time": "2021-01-15T05:08:53.110949Z"
    }
   },
   "outputs": [
    {
     "data": {
      "text/plain": [
       "2021"
      ]
     },
     "execution_count": 10,
     "metadata": {},
     "output_type": "execute_result"
    }
   ],
   "source": [
    "object = datetime.strptime('2021-01-09 00:00:00','%Y-%m-%d %H:%M:%S')\n",
    "object.year"
   ]
  },
  {
   "cell_type": "code",
   "execution_count": 11,
   "metadata": {
    "ExecuteTime": {
     "end_time": "2021-01-15T05:08:53.134417Z",
     "start_time": "2021-01-15T05:08:53.117405Z"
    }
   },
   "outputs": [
    {
     "data": {
      "text/html": [
       "<div>\n",
       "<style scoped>\n",
       "    .dataframe tbody tr th:only-of-type {\n",
       "        vertical-align: middle;\n",
       "    }\n",
       "\n",
       "    .dataframe tbody tr th {\n",
       "        vertical-align: top;\n",
       "    }\n",
       "\n",
       "    .dataframe thead th {\n",
       "        text-align: right;\n",
       "    }\n",
       "</style>\n",
       "<table border=\"1\" class=\"dataframe\">\n",
       "  <thead>\n",
       "    <tr style=\"text-align: right;\">\n",
       "      <th></th>\n",
       "      <th>time</th>\n",
       "      <th>city_name</th>\n",
       "      <th>temp</th>\n",
       "      <th>pressure</th>\n",
       "      <th>humidity</th>\n",
       "      <th>clouds</th>\n",
       "      <th>wind_speed</th>\n",
       "      <th>weather_description</th>\n",
       "      <th>weather_description_12</th>\n",
       "    </tr>\n",
       "  </thead>\n",
       "  <tbody>\n",
       "    <tr>\n",
       "      <th>0</th>\n",
       "      <td>2021-01-09 00:00:00</td>\n",
       "      <td>THU DAU MOT</td>\n",
       "      <td>24.0</td>\n",
       "      <td>1011.0</td>\n",
       "      <td>69.0</td>\n",
       "      <td>20.0</td>\n",
       "      <td>1.54</td>\n",
       "      <td>few clouds</td>\n",
       "      <td>scattered clouds</td>\n",
       "    </tr>\n",
       "    <tr>\n",
       "      <th>1</th>\n",
       "      <td>2021-01-09 01:00:00</td>\n",
       "      <td>THU DAU MOT</td>\n",
       "      <td>25.0</td>\n",
       "      <td>1012.0</td>\n",
       "      <td>65.0</td>\n",
       "      <td>98.0</td>\n",
       "      <td>1.54</td>\n",
       "      <td>overcast clouds</td>\n",
       "      <td>scattered clouds</td>\n",
       "    </tr>\n",
       "    <tr>\n",
       "      <th>2</th>\n",
       "      <td>2021-01-09 02:00:00</td>\n",
       "      <td>THU DAU MOT</td>\n",
       "      <td>26.0</td>\n",
       "      <td>1012.0</td>\n",
       "      <td>65.0</td>\n",
       "      <td>20.0</td>\n",
       "      <td>1.03</td>\n",
       "      <td>few clouds</td>\n",
       "      <td>scattered clouds</td>\n",
       "    </tr>\n",
       "    <tr>\n",
       "      <th>3</th>\n",
       "      <td>2021-01-09 03:00:00</td>\n",
       "      <td>THU DAU MOT</td>\n",
       "      <td>28.0</td>\n",
       "      <td>1012.0</td>\n",
       "      <td>57.0</td>\n",
       "      <td>20.0</td>\n",
       "      <td>2.57</td>\n",
       "      <td>few clouds</td>\n",
       "      <td>scattered clouds</td>\n",
       "    </tr>\n",
       "    <tr>\n",
       "      <th>4</th>\n",
       "      <td>2021-01-09 04:00:00</td>\n",
       "      <td>THU DAU MOT</td>\n",
       "      <td>29.0</td>\n",
       "      <td>1011.0</td>\n",
       "      <td>51.0</td>\n",
       "      <td>20.0</td>\n",
       "      <td>1.54</td>\n",
       "      <td>few clouds</td>\n",
       "      <td>scattered clouds</td>\n",
       "    </tr>\n",
       "    <tr>\n",
       "      <th>...</th>\n",
       "      <td>...</td>\n",
       "      <td>...</td>\n",
       "      <td>...</td>\n",
       "      <td>...</td>\n",
       "      <td>...</td>\n",
       "      <td>...</td>\n",
       "      <td>...</td>\n",
       "      <td>...</td>\n",
       "      <td>...</td>\n",
       "    </tr>\n",
       "    <tr>\n",
       "      <th>1543</th>\n",
       "      <td>2021-01-13 07:00:00</td>\n",
       "      <td>CAN GIO</td>\n",
       "      <td>28.0</td>\n",
       "      <td>1011.0</td>\n",
       "      <td>47.0</td>\n",
       "      <td>40.0</td>\n",
       "      <td>3.60</td>\n",
       "      <td>scattered clouds</td>\n",
       "      <td>few clouds</td>\n",
       "    </tr>\n",
       "    <tr>\n",
       "      <th>1544</th>\n",
       "      <td>2021-01-13 08:00:00</td>\n",
       "      <td>CAN GIO</td>\n",
       "      <td>28.0</td>\n",
       "      <td>1010.0</td>\n",
       "      <td>47.0</td>\n",
       "      <td>40.0</td>\n",
       "      <td>3.60</td>\n",
       "      <td>scattered clouds</td>\n",
       "      <td>few clouds</td>\n",
       "    </tr>\n",
       "    <tr>\n",
       "      <th>1545</th>\n",
       "      <td>2021-01-13 09:00:00</td>\n",
       "      <td>CAN GIO</td>\n",
       "      <td>28.0</td>\n",
       "      <td>1010.0</td>\n",
       "      <td>47.0</td>\n",
       "      <td>40.0</td>\n",
       "      <td>3.60</td>\n",
       "      <td>scattered clouds</td>\n",
       "      <td>scattered clouds</td>\n",
       "    </tr>\n",
       "    <tr>\n",
       "      <th>1546</th>\n",
       "      <td>2021-01-13 10:00:00</td>\n",
       "      <td>CAN GIO</td>\n",
       "      <td>27.0</td>\n",
       "      <td>1010.0</td>\n",
       "      <td>50.0</td>\n",
       "      <td>20.0</td>\n",
       "      <td>4.12</td>\n",
       "      <td>few clouds</td>\n",
       "      <td>scattered clouds</td>\n",
       "    </tr>\n",
       "    <tr>\n",
       "      <th>1547</th>\n",
       "      <td>2021-01-13 11:00:00</td>\n",
       "      <td>CAN GIO</td>\n",
       "      <td>26.0</td>\n",
       "      <td>1011.0</td>\n",
       "      <td>53.0</td>\n",
       "      <td>20.0</td>\n",
       "      <td>3.60</td>\n",
       "      <td>few clouds</td>\n",
       "      <td>scattered clouds</td>\n",
       "    </tr>\n",
       "  </tbody>\n",
       "</table>\n",
       "<p>1404 rows × 9 columns</p>\n",
       "</div>"
      ],
      "text/plain": [
       "                     time    city_name  temp  pressure  humidity  clouds  \\\n",
       "0     2021-01-09 00:00:00  THU DAU MOT  24.0    1011.0      69.0    20.0   \n",
       "1     2021-01-09 01:00:00  THU DAU MOT  25.0    1012.0      65.0    98.0   \n",
       "2     2021-01-09 02:00:00  THU DAU MOT  26.0    1012.0      65.0    20.0   \n",
       "3     2021-01-09 03:00:00  THU DAU MOT  28.0    1012.0      57.0    20.0   \n",
       "4     2021-01-09 04:00:00  THU DAU MOT  29.0    1011.0      51.0    20.0   \n",
       "...                   ...          ...   ...       ...       ...     ...   \n",
       "1543  2021-01-13 07:00:00      CAN GIO  28.0    1011.0      47.0    40.0   \n",
       "1544  2021-01-13 08:00:00      CAN GIO  28.0    1010.0      47.0    40.0   \n",
       "1545  2021-01-13 09:00:00      CAN GIO  28.0    1010.0      47.0    40.0   \n",
       "1546  2021-01-13 10:00:00      CAN GIO  27.0    1010.0      50.0    20.0   \n",
       "1547  2021-01-13 11:00:00      CAN GIO  26.0    1011.0      53.0    20.0   \n",
       "\n",
       "      wind_speed weather_description weather_description_12  \n",
       "0           1.54          few clouds       scattered clouds  \n",
       "1           1.54     overcast clouds       scattered clouds  \n",
       "2           1.03          few clouds       scattered clouds  \n",
       "3           2.57          few clouds       scattered clouds  \n",
       "4           1.54          few clouds       scattered clouds  \n",
       "...          ...                 ...                    ...  \n",
       "1543        3.60    scattered clouds             few clouds  \n",
       "1544        3.60    scattered clouds             few clouds  \n",
       "1545        3.60    scattered clouds       scattered clouds  \n",
       "1546        4.12          few clouds       scattered clouds  \n",
       "1547        3.60          few clouds       scattered clouds  \n",
       "\n",
       "[1404 rows x 9 columns]"
      ]
     },
     "execution_count": 11,
     "metadata": {},
     "output_type": "execute_result"
    }
   ],
   "source": [
    "weather_df = raw_weather_df[raw_weather_df['time'] <= '2021-01-13 11:00:00']\n",
    "weather_df"
   ]
  },
  {
   "cell_type": "markdown",
   "metadata": {},
   "source": [
    "Để chuyển đổi cột output sang dạng số, tụi mình cần xem thử cột có những giá trị nào, nhưng sẽ không xem tỉ lệ của cụ thể từng giá trị để tránh làm mất tính khách quan của tập dữ liệu"
   ]
  },
  {
   "cell_type": "code",
   "execution_count": 12,
   "metadata": {
    "ExecuteTime": {
     "end_time": "2021-01-15T05:08:53.141409Z",
     "start_time": "2021-01-15T05:08:53.135403Z"
    }
   },
   "outputs": [
    {
     "name": "stdout",
     "output_type": "stream",
     "text": [
      "5\n",
      "['scattered clouds' 'broken clouds' 'few clouds' 'clear sky'\n",
      " 'overcast clouds']\n"
     ]
    }
   ],
   "source": [
    "print(weather_df['weather_description_12'].nunique())\n",
    "unique_weather = weather_df['weather_description_12'].unique()\n",
    "print(unique_weather)"
   ]
  },
  {
   "cell_type": "markdown",
   "metadata": {},
   "source": [
    "Tụi mình sẽ thực hiện đổi sang chuỗi số tương ứng 1-5 trong bước transform, thay bằng 0 nếu có giá trị khác ngoài 5 giá trị trên"
   ]
  },
  {
   "cell_type": "markdown",
   "metadata": {
    "ExecuteTime": {
     "end_time": "2021-01-14T16:55:19.558742Z",
     "start_time": "2021-01-14T16:55:19.555740Z"
    }
   },
   "source": [
    "## Tách tập train, validate và test"
   ]
  },
  {
   "cell_type": "code",
   "execution_count": 13,
   "metadata": {
    "ExecuteTime": {
     "end_time": "2021-01-15T05:08:53.147407Z",
     "start_time": "2021-01-15T05:08:53.144405Z"
    }
   },
   "outputs": [],
   "source": [
    "Y = weather_df['weather_description_12']\n",
    "X = weather_df.drop(columns = ['weather_description_12'])"
   ]
  },
  {
   "cell_type": "code",
   "execution_count": 14,
   "metadata": {
    "ExecuteTime": {
     "end_time": "2021-01-15T05:08:53.155435Z",
     "start_time": "2021-01-15T05:08:53.148406Z"
    }
   },
   "outputs": [
    {
     "data": {
      "text/plain": [
       "(1404, 8)"
      ]
     },
     "execution_count": 14,
     "metadata": {},
     "output_type": "execute_result"
    }
   ],
   "source": [
    "X.shape"
   ]
  },
  {
   "cell_type": "code",
   "execution_count": 15,
   "metadata": {
    "ExecuteTime": {
     "end_time": "2021-01-15T05:08:53.162406Z",
     "start_time": "2021-01-15T05:08:53.157419Z"
    }
   },
   "outputs": [
    {
     "data": {
      "text/plain": [
       "(1404,)"
      ]
     },
     "execution_count": 15,
     "metadata": {},
     "output_type": "execute_result"
    }
   ],
   "source": [
    "Y.shape"
   ]
  },
  {
   "cell_type": "code",
   "execution_count": 16,
   "metadata": {
    "ExecuteTime": {
     "end_time": "2021-01-15T05:08:53.170404Z",
     "start_time": "2021-01-15T05:08:53.163405Z"
    }
   },
   "outputs": [],
   "source": [
    "X_train, X_test, Y_train, Y_test = train_test_split(X,Y,test_size = 0.2, random_state = 13)"
   ]
  },
  {
   "cell_type": "code",
   "execution_count": 17,
   "metadata": {
    "ExecuteTime": {
     "end_time": "2021-01-15T05:08:53.175406Z",
     "start_time": "2021-01-15T05:08:53.171406Z"
    }
   },
   "outputs": [
    {
     "data": {
      "text/plain": [
       "(1123, 8)"
      ]
     },
     "execution_count": 17,
     "metadata": {},
     "output_type": "execute_result"
    }
   ],
   "source": [
    "X_train.shape"
   ]
  },
  {
   "cell_type": "code",
   "execution_count": 18,
   "metadata": {
    "ExecuteTime": {
     "end_time": "2021-01-15T05:08:53.182407Z",
     "start_time": "2021-01-15T05:08:53.176403Z"
    }
   },
   "outputs": [
    {
     "data": {
      "text/plain": [
       "(281, 8)"
      ]
     },
     "execution_count": 18,
     "metadata": {},
     "output_type": "execute_result"
    }
   ],
   "source": [
    "X_test.shape"
   ]
  },
  {
   "cell_type": "code",
   "execution_count": 19,
   "metadata": {
    "ExecuteTime": {
     "end_time": "2021-01-15T05:08:53.187406Z",
     "start_time": "2021-01-15T05:08:53.184405Z"
    }
   },
   "outputs": [
    {
     "data": {
      "text/plain": [
       "(1123,)"
      ]
     },
     "execution_count": 19,
     "metadata": {},
     "output_type": "execute_result"
    }
   ],
   "source": [
    "Y_train.shape"
   ]
  },
  {
   "cell_type": "code",
   "execution_count": 29,
   "metadata": {
    "ExecuteTime": {
     "end_time": "2021-01-15T05:17:41.157367Z",
     "start_time": "2021-01-15T05:17:41.152364Z"
    }
   },
   "outputs": [
    {
     "data": {
      "text/plain": [
       "1461          few clouds\n",
       "408     scattered clouds\n",
       "1355    scattered clouds\n",
       "120     scattered clouds\n",
       "0       scattered clouds\n",
       "              ...       \n",
       "962           few clouds\n",
       "814           few clouds\n",
       "74            few clouds\n",
       "188     scattered clouds\n",
       "374           few clouds\n",
       "Name: weather_description_12, Length: 1123, dtype: object"
      ]
     },
     "execution_count": 29,
     "metadata": {},
     "output_type": "execute_result"
    }
   ],
   "source": [
    "Y_train"
   ]
  },
  {
   "cell_type": "code",
   "execution_count": 20,
   "metadata": {
    "ExecuteTime": {
     "end_time": "2021-01-15T05:08:53.193412Z",
     "start_time": "2021-01-15T05:08:53.189405Z"
    }
   },
   "outputs": [
    {
     "data": {
      "text/plain": [
       "(281,)"
      ]
     },
     "execution_count": 20,
     "metadata": {},
     "output_type": "execute_result"
    }
   ],
   "source": [
    "Y_test.shape"
   ]
  },
  {
   "cell_type": "markdown",
   "metadata": {
    "ExecuteTime": {
     "end_time": "2021-01-14T18:46:12.833504Z",
     "start_time": "2021-01-14T18:46:12.816541Z"
    }
   },
   "source": [
    "## Khám phá lại dữ liệu huấn luyện để tiền xử lí"
   ]
  },
  {
   "cell_type": "markdown",
   "metadata": {
    "ExecuteTime": {
     "end_time": "2021-01-15T03:57:37.280567Z",
     "start_time": "2021-01-15T03:57:37.277599Z"
    }
   },
   "source": [
    "### Kiểu dữ liệu"
   ]
  },
  {
   "cell_type": "code",
   "execution_count": 21,
   "metadata": {
    "ExecuteTime": {
     "end_time": "2021-01-15T05:08:53.205407Z",
     "start_time": "2021-01-15T05:08:53.196410Z"
    }
   },
   "outputs": [
    {
     "name": "stdout",
     "output_type": "stream",
     "text": [
      "<class 'pandas.core.frame.DataFrame'>\n",
      "Int64Index: 1123 entries, 1461 to 374\n",
      "Data columns (total 8 columns):\n",
      " #   Column               Non-Null Count  Dtype  \n",
      "---  ------               --------------  -----  \n",
      " 0   time                 1123 non-null   object \n",
      " 1   city_name            1123 non-null   object \n",
      " 2   temp                 1123 non-null   float64\n",
      " 3   pressure             1123 non-null   float64\n",
      " 4   humidity             1123 non-null   float64\n",
      " 5   clouds               1123 non-null   float64\n",
      " 6   wind_speed           1123 non-null   float64\n",
      " 7   weather_description  1123 non-null   object \n",
      "dtypes: float64(5), object(3)\n",
      "memory usage: 79.0+ KB\n"
     ]
    }
   ],
   "source": [
    "X_train.info()"
   ]
  },
  {
   "cell_type": "markdown",
   "metadata": {},
   "source": [
    "### Xem thử cột weather_description\t có những giá trị nào"
   ]
  },
  {
   "cell_type": "code",
   "execution_count": 22,
   "metadata": {
    "ExecuteTime": {
     "end_time": "2021-01-15T05:08:53.225421Z",
     "start_time": "2021-01-15T05:08:53.209403Z"
    }
   },
   "outputs": [
    {
     "name": "stdout",
     "output_type": "stream",
     "text": [
      "5\n",
      "few clouds          42.12\n",
      "scattered clouds    30.19\n",
      "broken clouds       11.93\n",
      "clear sky           11.22\n",
      "overcast clouds      4.54\n",
      "Name: weather_description, dtype: float64\n"
     ]
    }
   ],
   "source": [
    "print(X_train['weather_description'].nunique())\n",
    "print((X_train['weather_description'].value_counts(normalize=True)*100).round(2))"
   ]
  },
  {
   "cell_type": "markdown",
   "metadata": {},
   "source": [
    "Có vẻ là lấy thời gian khá gần nên thời tiết chủ đạo ở miền nam trong thời gian này là có mây các dạng: ít mấy, mây rải rác, mây vỡ hoặc nhiều mây hoặc trời trong xanh"
   ]
  },
  {
   "cell_type": "code",
   "execution_count": 24,
   "metadata": {
    "ExecuteTime": {
     "end_time": "2021-01-15T05:11:37.925566Z",
     "start_time": "2021-01-15T05:11:37.912566Z"
    }
   },
   "outputs": [
    {
     "data": {
      "text/html": [
       "<div>\n",
       "<style scoped>\n",
       "    .dataframe tbody tr th:only-of-type {\n",
       "        vertical-align: middle;\n",
       "    }\n",
       "\n",
       "    .dataframe tbody tr th {\n",
       "        vertical-align: top;\n",
       "    }\n",
       "\n",
       "    .dataframe thead th {\n",
       "        text-align: right;\n",
       "    }\n",
       "</style>\n",
       "<table border=\"1\" class=\"dataframe\">\n",
       "  <thead>\n",
       "    <tr style=\"text-align: right;\">\n",
       "      <th></th>\n",
       "      <th>time</th>\n",
       "      <th>city_name</th>\n",
       "      <th>temp</th>\n",
       "      <th>pressure</th>\n",
       "      <th>humidity</th>\n",
       "      <th>clouds</th>\n",
       "      <th>wind_speed</th>\n",
       "      <th>weather_description</th>\n",
       "    </tr>\n",
       "  </thead>\n",
       "  <tbody>\n",
       "    <tr>\n",
       "      <th>1461</th>\n",
       "      <td>2021-01-09 21:00:00</td>\n",
       "      <td>CAN GIO</td>\n",
       "      <td>23.0</td>\n",
       "      <td>1009.0</td>\n",
       "      <td>73.0</td>\n",
       "      <td>40.0</td>\n",
       "      <td>1.54</td>\n",
       "      <td>scattered clouds</td>\n",
       "    </tr>\n",
       "    <tr>\n",
       "      <th>408</th>\n",
       "      <td>2021-01-11 00:00:00</td>\n",
       "      <td>TAN AN</td>\n",
       "      <td>22.0</td>\n",
       "      <td>1011.0</td>\n",
       "      <td>78.0</td>\n",
       "      <td>20.0</td>\n",
       "      <td>2.06</td>\n",
       "      <td>few clouds</td>\n",
       "    </tr>\n",
       "    <tr>\n",
       "      <th>1355</th>\n",
       "      <td>2021-01-10 11:00:00</td>\n",
       "      <td>CAN THO</td>\n",
       "      <td>26.0</td>\n",
       "      <td>1010.0</td>\n",
       "      <td>83.0</td>\n",
       "      <td>75.0</td>\n",
       "      <td>2.06</td>\n",
       "      <td>broken clouds</td>\n",
       "    </tr>\n",
       "    <tr>\n",
       "      <th>120</th>\n",
       "      <td>2021-01-09 00:00:00</td>\n",
       "      <td>THANH PHO HO CHI MINH</td>\n",
       "      <td>24.0</td>\n",
       "      <td>1011.0</td>\n",
       "      <td>69.0</td>\n",
       "      <td>20.0</td>\n",
       "      <td>1.54</td>\n",
       "      <td>few clouds</td>\n",
       "    </tr>\n",
       "    <tr>\n",
       "      <th>0</th>\n",
       "      <td>2021-01-09 00:00:00</td>\n",
       "      <td>THU DAU MOT</td>\n",
       "      <td>24.0</td>\n",
       "      <td>1011.0</td>\n",
       "      <td>69.0</td>\n",
       "      <td>20.0</td>\n",
       "      <td>1.54</td>\n",
       "      <td>few clouds</td>\n",
       "    </tr>\n",
       "  </tbody>\n",
       "</table>\n",
       "</div>"
      ],
      "text/plain": [
       "                     time              city_name  temp  pressure  humidity  \\\n",
       "1461  2021-01-09 21:00:00                CAN GIO  23.0    1009.0      73.0   \n",
       "408   2021-01-11 00:00:00                 TAN AN  22.0    1011.0      78.0   \n",
       "1355  2021-01-10 11:00:00                CAN THO  26.0    1010.0      83.0   \n",
       "120   2021-01-09 00:00:00  THANH PHO HO CHI MINH  24.0    1011.0      69.0   \n",
       "0     2021-01-09 00:00:00            THU DAU MOT  24.0    1011.0      69.0   \n",
       "\n",
       "      clouds  wind_speed weather_description  \n",
       "1461    40.0        1.54    scattered clouds  \n",
       "408     20.0        2.06          few clouds  \n",
       "1355    75.0        2.06       broken clouds  \n",
       "120     20.0        1.54          few clouds  \n",
       "0       20.0        1.54          few clouds  "
      ]
     },
     "execution_count": 24,
     "metadata": {},
     "output_type": "execute_result"
    }
   ],
   "source": [
    "X_train.head()"
   ]
  },
  {
   "cell_type": "markdown",
   "metadata": {
    "ExecuteTime": {
     "end_time": "2021-01-14T19:10:16.411073Z",
     "start_time": "2021-01-14T19:10:16.404019Z"
    }
   },
   "source": [
    "## Tiếp tục tiền xử lí"
   ]
  },
  {
   "cell_type": "markdown",
   "metadata": {},
   "source": [
    "Các bước tiền xử lí:\n",
    "- Bỏ đi cột city name vì thời tiết của các tỉnh miền nam khá giống nhau nên giữ không có ý nghĩa\n",
    "- Đổi cột input sang dạng số\n",
    "- Cột thời gian mình rút gọn chỉ lấy giờ, bởi vì chúng mình dự đoán dựa vào dữ liệu của 12 giờ trước nên mình nghĩ 12 giờ trước đang là thời gian nào ngày cũng khá quan trọng\n",
    "- Cột weather_description tụi mình sẽ OneHotEncoder\n",
    "- Cuối cùng là chuẩn hóa sau khi các cột đã có dạng số"
   ]
  },
  {
   "cell_type": "markdown",
   "metadata": {},
   "source": [
    "### Bỏ cột city name"
   ]
  },
  {
   "cell_type": "code",
   "execution_count": 31,
   "metadata": {
    "ExecuteTime": {
     "end_time": "2021-01-15T05:20:40.777096Z",
     "start_time": "2021-01-15T05:20:40.771130Z"
    }
   },
   "outputs": [],
   "source": [
    "class DropCol(BaseEstimator, TransformerMixin):\n",
    "    def _init_(self):\n",
    "        return self\n",
    "    def fit(self, X, Y = None):\n",
    "        self.unique_weather = Y.unique()\n",
    "        return self\n",
    "    def transform(self, X, Y = None):\n",
    "        temp_X_df = X.copy()\n",
    "        temp_X_df = temp_X_df.drop(columns = ['city_name'])\n",
    "        temp_Y = Y.copy()\n",
    "        # Thay bằng giá trị 0 có giá trị Y khác ngoài các giá trị Y trong unique_weather\n",
    "        for i in range(len(temp_Y)):\n",
    "            if temp_Y.iloc[i] not in self.unique_weather:\n",
    "                temp_Y.iloc[i] = 0\n",
    "        temp_Y = temp_Y.replace(self.unique_weather,range(1,6))\n",
    "        return temp_X_df, temp_Y"
   ]
  },
  {
   "cell_type": "code",
   "execution_count": 32,
   "metadata": {
    "ExecuteTime": {
     "end_time": "2021-01-15T05:20:44.626215Z",
     "start_time": "2021-01-15T05:20:44.622247Z"
    }
   },
   "outputs": [
    {
     "data": {
      "text/plain": [
       "array(['few clouds', 'scattered clouds', 'clear sky', 'overcast clouds',\n",
       "       'broken clouds'], dtype=object)"
      ]
     },
     "execution_count": 32,
     "metadata": {},
     "output_type": "execute_result"
    }
   ],
   "source": [
    "transformer = DropCol()\n",
    "transformer.fit(X_train,Y_train)\n",
    "transformer.unique_weather"
   ]
  },
  {
   "cell_type": "code",
   "execution_count": 33,
   "metadata": {
    "ExecuteTime": {
     "end_time": "2021-01-15T05:20:51.004236Z",
     "start_time": "2021-01-15T05:20:50.977229Z"
    }
   },
   "outputs": [],
   "source": [
    "processed_X_train_df, processed_Y_train = transformer.transform(X_train,Y_train)"
   ]
  },
  {
   "cell_type": "code",
   "execution_count": 35,
   "metadata": {
    "ExecuteTime": {
     "end_time": "2021-01-15T05:21:03.602786Z",
     "start_time": "2021-01-15T05:21:03.592786Z"
    }
   },
   "outputs": [
    {
     "data": {
      "text/html": [
       "<div>\n",
       "<style scoped>\n",
       "    .dataframe tbody tr th:only-of-type {\n",
       "        vertical-align: middle;\n",
       "    }\n",
       "\n",
       "    .dataframe tbody tr th {\n",
       "        vertical-align: top;\n",
       "    }\n",
       "\n",
       "    .dataframe thead th {\n",
       "        text-align: right;\n",
       "    }\n",
       "</style>\n",
       "<table border=\"1\" class=\"dataframe\">\n",
       "  <thead>\n",
       "    <tr style=\"text-align: right;\">\n",
       "      <th></th>\n",
       "      <th>time</th>\n",
       "      <th>temp</th>\n",
       "      <th>pressure</th>\n",
       "      <th>humidity</th>\n",
       "      <th>clouds</th>\n",
       "      <th>wind_speed</th>\n",
       "      <th>weather_description</th>\n",
       "    </tr>\n",
       "  </thead>\n",
       "  <tbody>\n",
       "    <tr>\n",
       "      <th>1461</th>\n",
       "      <td>2021-01-09 21:00:00</td>\n",
       "      <td>23.0</td>\n",
       "      <td>1009.0</td>\n",
       "      <td>73.0</td>\n",
       "      <td>40.0</td>\n",
       "      <td>1.54</td>\n",
       "      <td>scattered clouds</td>\n",
       "    </tr>\n",
       "    <tr>\n",
       "      <th>408</th>\n",
       "      <td>2021-01-11 00:00:00</td>\n",
       "      <td>22.0</td>\n",
       "      <td>1011.0</td>\n",
       "      <td>78.0</td>\n",
       "      <td>20.0</td>\n",
       "      <td>2.06</td>\n",
       "      <td>few clouds</td>\n",
       "    </tr>\n",
       "    <tr>\n",
       "      <th>1355</th>\n",
       "      <td>2021-01-10 11:00:00</td>\n",
       "      <td>26.0</td>\n",
       "      <td>1010.0</td>\n",
       "      <td>83.0</td>\n",
       "      <td>75.0</td>\n",
       "      <td>2.06</td>\n",
       "      <td>broken clouds</td>\n",
       "    </tr>\n",
       "    <tr>\n",
       "      <th>120</th>\n",
       "      <td>2021-01-09 00:00:00</td>\n",
       "      <td>24.0</td>\n",
       "      <td>1011.0</td>\n",
       "      <td>69.0</td>\n",
       "      <td>20.0</td>\n",
       "      <td>1.54</td>\n",
       "      <td>few clouds</td>\n",
       "    </tr>\n",
       "    <tr>\n",
       "      <th>0</th>\n",
       "      <td>2021-01-09 00:00:00</td>\n",
       "      <td>24.0</td>\n",
       "      <td>1011.0</td>\n",
       "      <td>69.0</td>\n",
       "      <td>20.0</td>\n",
       "      <td>1.54</td>\n",
       "      <td>few clouds</td>\n",
       "    </tr>\n",
       "  </tbody>\n",
       "</table>\n",
       "</div>"
      ],
      "text/plain": [
       "                     time  temp  pressure  humidity  clouds  wind_speed  \\\n",
       "1461  2021-01-09 21:00:00  23.0    1009.0      73.0    40.0        1.54   \n",
       "408   2021-01-11 00:00:00  22.0    1011.0      78.0    20.0        2.06   \n",
       "1355  2021-01-10 11:00:00  26.0    1010.0      83.0    75.0        2.06   \n",
       "120   2021-01-09 00:00:00  24.0    1011.0      69.0    20.0        1.54   \n",
       "0     2021-01-09 00:00:00  24.0    1011.0      69.0    20.0        1.54   \n",
       "\n",
       "     weather_description  \n",
       "1461    scattered clouds  \n",
       "408           few clouds  \n",
       "1355       broken clouds  \n",
       "120           few clouds  \n",
       "0             few clouds  "
      ]
     },
     "execution_count": 35,
     "metadata": {},
     "output_type": "execute_result"
    }
   ],
   "source": [
    "processed_X_train_df.head()"
   ]
  },
  {
   "cell_type": "code",
   "execution_count": 36,
   "metadata": {
    "ExecuteTime": {
     "end_time": "2021-01-15T05:21:10.689851Z",
     "start_time": "2021-01-15T05:21:10.684882Z"
    }
   },
   "outputs": [
    {
     "data": {
      "text/plain": [
       "1461    1\n",
       "408     2\n",
       "1355    2\n",
       "120     2\n",
       "0       2\n",
       "Name: weather_description_12, dtype: int64"
      ]
     },
     "execution_count": 36,
     "metadata": {},
     "output_type": "execute_result"
    }
   ],
   "source": [
    "processed_Y_train.head()"
   ]
  },
  {
   "cell_type": "code",
   "execution_count": null,
   "metadata": {},
   "outputs": [],
   "source": []
  }
 ],
 "metadata": {
  "kernelspec": {
   "display_name": "Python 3",
   "language": "python",
   "name": "python3"
  },
  "language_info": {
   "codemirror_mode": {
    "name": "ipython",
    "version": 3
   },
   "file_extension": ".py",
   "mimetype": "text/x-python",
   "name": "python",
   "nbconvert_exporter": "python",
   "pygments_lexer": "ipython3",
   "version": "3.7.6"
  },
  "toc": {
   "base_numbering": 1,
   "nav_menu": {},
   "number_sections": true,
   "sideBar": true,
   "skip_h1_title": false,
   "title_cell": "Table of Contents",
   "title_sidebar": "Contents",
   "toc_cell": false,
   "toc_position": {
    "height": "calc(100% - 180px)",
    "left": "10px",
    "top": "150px",
    "width": "273.188px"
   },
   "toc_section_display": true,
   "toc_window_display": true
  },
  "varInspector": {
   "cols": {
    "lenName": 16,
    "lenType": 16,
    "lenVar": 40
   },
   "kernels_config": {
    "python": {
     "delete_cmd_postfix": "",
     "delete_cmd_prefix": "del ",
     "library": "var_list.py",
     "varRefreshCmd": "print(var_dic_list())"
    },
    "r": {
     "delete_cmd_postfix": ") ",
     "delete_cmd_prefix": "rm(",
     "library": "var_list.r",
     "varRefreshCmd": "cat(var_dic_list()) "
    }
   },
   "types_to_exclude": [
    "module",
    "function",
    "builtin_function_or_method",
    "instance",
    "_Feature"
   ],
   "window_display": false
  }
 },
 "nbformat": 4,
 "nbformat_minor": 4
}
