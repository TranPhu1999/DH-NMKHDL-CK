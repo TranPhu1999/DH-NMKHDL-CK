{
 "cells": [
  {
   "cell_type": "markdown",
   "metadata": {},
   "source": [
    "# Câu hỏi muốn trả lời\n",
    "Liệu có thể dự đoán thời tiết của 12 tiếng sau bằng cách sử dụng thông tin thời tiết của hiện tại không?"
   ]
  },
  {
   "cell_type": "markdown",
   "metadata": {},
   "source": [
    "# Import"
   ]
  },
  {
   "cell_type": "code",
   "execution_count": 1,
   "metadata": {
    "ExecuteTime": {
     "end_time": "2021-01-15T15:43:00.665455Z",
     "start_time": "2021-01-15T15:42:56.702007Z"
    }
   },
   "outputs": [],
   "source": [
    "%matplotlib inline\n",
    "import matplotlib.pyplot as plt\n",
    "import seaborn as sns\n",
    "import pandas as pd\n",
    "\n",
    "# Tắt cảnh báo SettingWithCopyWarning\n",
    "pd.options.mode.chained_assignment = None\n",
    "import numpy as np\n",
    "\n",
    "from sklearn.model_selection import train_test_split\n",
    "from sklearn.preprocessing import OneHotEncoder, StandardScaler\n",
    "from sklearn.base import BaseEstimator, TransformerMixin\n",
    "from sklearn.pipeline import make_pipeline\n",
    "from sklearn.compose import make_column_transformer\n",
    "from sklearn.neural_network import MLPClassifier\n",
    "from sklearn import set_config\n",
    "set_config(display='diagram')\n",
    "\n",
    "from datetime import datetime"
   ]
  },
  {
   "cell_type": "markdown",
   "metadata": {},
   "source": [
    "# Đọc dữ liệu"
   ]
  },
  {
   "cell_type": "code",
   "execution_count": 2,
   "metadata": {
    "ExecuteTime": {
     "end_time": "2021-01-15T15:43:00.722887Z",
     "start_time": "2021-01-15T15:43:00.670189Z"
    }
   },
   "outputs": [
    {
     "data": {
      "text/html": [
       "<div>\n",
       "<style scoped>\n",
       "    .dataframe tbody tr th:only-of-type {\n",
       "        vertical-align: middle;\n",
       "    }\n",
       "\n",
       "    .dataframe tbody tr th {\n",
       "        vertical-align: top;\n",
       "    }\n",
       "\n",
       "    .dataframe thead th {\n",
       "        text-align: right;\n",
       "    }\n",
       "</style>\n",
       "<table border=\"1\" class=\"dataframe\">\n",
       "  <thead>\n",
       "    <tr style=\"text-align: right;\">\n",
       "      <th></th>\n",
       "      <th>time</th>\n",
       "      <th>city_name</th>\n",
       "      <th>temp</th>\n",
       "      <th>pressure</th>\n",
       "      <th>humidity</th>\n",
       "      <th>clouds</th>\n",
       "      <th>wind_speed</th>\n",
       "      <th>weather_description</th>\n",
       "    </tr>\n",
       "  </thead>\n",
       "  <tbody>\n",
       "    <tr>\n",
       "      <th>0</th>\n",
       "      <td>2021-01-09 00:00:00</td>\n",
       "      <td>THU DAU MOT</td>\n",
       "      <td>24.0</td>\n",
       "      <td>1011</td>\n",
       "      <td>69</td>\n",
       "      <td>20</td>\n",
       "      <td>1.54</td>\n",
       "      <td>few clouds</td>\n",
       "    </tr>\n",
       "    <tr>\n",
       "      <th>1</th>\n",
       "      <td>2021-01-09 01:00:00</td>\n",
       "      <td>THU DAU MOT</td>\n",
       "      <td>25.0</td>\n",
       "      <td>1012</td>\n",
       "      <td>65</td>\n",
       "      <td>98</td>\n",
       "      <td>1.54</td>\n",
       "      <td>overcast clouds</td>\n",
       "    </tr>\n",
       "    <tr>\n",
       "      <th>2</th>\n",
       "      <td>2021-01-09 02:00:00</td>\n",
       "      <td>THU DAU MOT</td>\n",
       "      <td>26.0</td>\n",
       "      <td>1012</td>\n",
       "      <td>65</td>\n",
       "      <td>20</td>\n",
       "      <td>1.03</td>\n",
       "      <td>few clouds</td>\n",
       "    </tr>\n",
       "    <tr>\n",
       "      <th>3</th>\n",
       "      <td>2021-01-09 03:00:00</td>\n",
       "      <td>THU DAU MOT</td>\n",
       "      <td>28.0</td>\n",
       "      <td>1012</td>\n",
       "      <td>57</td>\n",
       "      <td>20</td>\n",
       "      <td>2.57</td>\n",
       "      <td>few clouds</td>\n",
       "    </tr>\n",
       "    <tr>\n",
       "      <th>4</th>\n",
       "      <td>2021-01-09 04:00:00</td>\n",
       "      <td>THU DAU MOT</td>\n",
       "      <td>29.0</td>\n",
       "      <td>1011</td>\n",
       "      <td>51</td>\n",
       "      <td>20</td>\n",
       "      <td>1.54</td>\n",
       "      <td>few clouds</td>\n",
       "    </tr>\n",
       "  </tbody>\n",
       "</table>\n",
       "</div>"
      ],
      "text/plain": [
       "                  time    city_name  temp  pressure  humidity  clouds  \\\n",
       "0  2021-01-09 00:00:00  THU DAU MOT  24.0      1011        69      20   \n",
       "1  2021-01-09 01:00:00  THU DAU MOT  25.0      1012        65      98   \n",
       "2  2021-01-09 02:00:00  THU DAU MOT  26.0      1012        65      20   \n",
       "3  2021-01-09 03:00:00  THU DAU MOT  28.0      1012        57      20   \n",
       "4  2021-01-09 04:00:00  THU DAU MOT  29.0      1011        51      20   \n",
       "\n",
       "   wind_speed weather_description  \n",
       "0        1.54          few clouds  \n",
       "1        1.54     overcast clouds  \n",
       "2        1.03          few clouds  \n",
       "3        2.57          few clouds  \n",
       "4        1.54          few clouds  "
      ]
     },
     "execution_count": 2,
     "metadata": {},
     "output_type": "execute_result"
    }
   ],
   "source": [
    "raw_weather_df = pd.read_csv('raw_weather_df.csv')\n",
    "raw_weather_df = raw_weather_df.drop(columns = ['Unnamed: 0'])\n",
    "raw_weather_df.head()"
   ]
  },
  {
   "cell_type": "markdown",
   "metadata": {},
   "source": [
    "# Khám phá dữ liệu"
   ]
  },
  {
   "cell_type": "markdown",
   "metadata": {},
   "source": [
    "Ý nghĩa các trường dữ liệu, theo như link API: https://openweathermap.org/api/one-call-api#list1\n",
    "- time: thời gian phép đo đạc được thực hiện, tính theo giờ\n",
    "- city_name: Thành phố nơi các số đo thời thiết được ghi nhận\n",
    "- temp: nhiệt độ \n",
    "- pressure: áp suất không khí\n",
    "- humidity: độ ẩm\n",
    "- cloud: mật độ mây\n",
    "- wind_speed: tốc độ gió\n",
    "- weather description: đặc tả thời tiết, chi tiết các đặc tả này có thể xem tại https://openweathermap.org/weather-conditions#Weather-Condition-Codes-2"
   ]
  },
  {
   "cell_type": "markdown",
   "metadata": {},
   "source": [
    "## Xem số dòng và số cột"
   ]
  },
  {
   "cell_type": "code",
   "execution_count": 3,
   "metadata": {
    "ExecuteTime": {
     "end_time": "2021-01-15T15:43:00.734079Z",
     "start_time": "2021-01-15T15:43:00.723843Z"
    }
   },
   "outputs": [
    {
     "data": {
      "text/plain": [
       "(1560, 8)"
      ]
     },
     "execution_count": 3,
     "metadata": {},
     "output_type": "execute_result"
    }
   ],
   "source": [
    "raw_weather_df.shape"
   ]
  },
  {
   "cell_type": "markdown",
   "metadata": {},
   "source": [
    "## Kiểm tra xem có bị lặp dòng nào không?"
   ]
  },
  {
   "cell_type": "code",
   "execution_count": 4,
   "metadata": {
    "ExecuteTime": {
     "end_time": "2021-01-15T15:43:00.746270Z",
     "start_time": "2021-01-15T15:43:00.735083Z"
    }
   },
   "outputs": [
    {
     "data": {
      "text/plain": [
       "0"
      ]
     },
     "execution_count": 4,
     "metadata": {},
     "output_type": "execute_result"
    }
   ],
   "source": [
    "raw_weather_df.index.duplicated().sum()"
   ]
  },
  {
   "cell_type": "markdown",
   "metadata": {
    "ExecuteTime": {
     "end_time": "2021-01-14T15:01:53.147502Z",
     "start_time": "2021-01-14T15:01:53.144466Z"
    }
   },
   "source": [
    "## Xem tổng quan thông tin các trường dữ liệu"
   ]
  },
  {
   "cell_type": "code",
   "execution_count": 5,
   "metadata": {
    "ExecuteTime": {
     "end_time": "2021-01-15T15:43:00.790895Z",
     "start_time": "2021-01-15T15:43:00.746270Z"
    }
   },
   "outputs": [
    {
     "data": {
      "text/html": [
       "<div>\n",
       "<style scoped>\n",
       "    .dataframe tbody tr th:only-of-type {\n",
       "        vertical-align: middle;\n",
       "    }\n",
       "\n",
       "    .dataframe tbody tr th {\n",
       "        vertical-align: top;\n",
       "    }\n",
       "\n",
       "    .dataframe thead th {\n",
       "        text-align: right;\n",
       "    }\n",
       "</style>\n",
       "<table border=\"1\" class=\"dataframe\">\n",
       "  <thead>\n",
       "    <tr style=\"text-align: right;\">\n",
       "      <th></th>\n",
       "      <th>temp</th>\n",
       "      <th>pressure</th>\n",
       "      <th>humidity</th>\n",
       "      <th>clouds</th>\n",
       "      <th>wind_speed</th>\n",
       "    </tr>\n",
       "  </thead>\n",
       "  <tbody>\n",
       "    <tr>\n",
       "      <th>count</th>\n",
       "      <td>1560.000000</td>\n",
       "      <td>1560.000000</td>\n",
       "      <td>1560.000000</td>\n",
       "      <td>1560.000000</td>\n",
       "      <td>1560.000000</td>\n",
       "    </tr>\n",
       "    <tr>\n",
       "      <th>mean</th>\n",
       "      <td>24.781160</td>\n",
       "      <td>1011.043590</td>\n",
       "      <td>67.594872</td>\n",
       "      <td>32.158974</td>\n",
       "      <td>2.270968</td>\n",
       "    </tr>\n",
       "    <tr>\n",
       "      <th>std</th>\n",
       "      <td>3.372387</td>\n",
       "      <td>1.617146</td>\n",
       "      <td>17.125578</td>\n",
       "      <td>24.656363</td>\n",
       "      <td>1.207018</td>\n",
       "    </tr>\n",
       "    <tr>\n",
       "      <th>min</th>\n",
       "      <td>17.000000</td>\n",
       "      <td>1007.000000</td>\n",
       "      <td>35.000000</td>\n",
       "      <td>0.000000</td>\n",
       "      <td>0.270000</td>\n",
       "    </tr>\n",
       "    <tr>\n",
       "      <th>25%</th>\n",
       "      <td>22.000000</td>\n",
       "      <td>1010.000000</td>\n",
       "      <td>54.000000</td>\n",
       "      <td>20.000000</td>\n",
       "      <td>1.540000</td>\n",
       "    </tr>\n",
       "    <tr>\n",
       "      <th>50%</th>\n",
       "      <td>24.000000</td>\n",
       "      <td>1011.000000</td>\n",
       "      <td>68.000000</td>\n",
       "      <td>20.000000</td>\n",
       "      <td>2.060000</td>\n",
       "    </tr>\n",
       "    <tr>\n",
       "      <th>75%</th>\n",
       "      <td>27.000000</td>\n",
       "      <td>1012.000000</td>\n",
       "      <td>78.000000</td>\n",
       "      <td>40.000000</td>\n",
       "      <td>3.090000</td>\n",
       "    </tr>\n",
       "    <tr>\n",
       "      <th>max</th>\n",
       "      <td>32.610000</td>\n",
       "      <td>1015.000000</td>\n",
       "      <td>100.000000</td>\n",
       "      <td>100.000000</td>\n",
       "      <td>8.530000</td>\n",
       "    </tr>\n",
       "  </tbody>\n",
       "</table>\n",
       "</div>"
      ],
      "text/plain": [
       "              temp     pressure     humidity       clouds   wind_speed\n",
       "count  1560.000000  1560.000000  1560.000000  1560.000000  1560.000000\n",
       "mean     24.781160  1011.043590    67.594872    32.158974     2.270968\n",
       "std       3.372387     1.617146    17.125578    24.656363     1.207018\n",
       "min      17.000000  1007.000000    35.000000     0.000000     0.270000\n",
       "25%      22.000000  1010.000000    54.000000    20.000000     1.540000\n",
       "50%      24.000000  1011.000000    68.000000    20.000000     2.060000\n",
       "75%      27.000000  1012.000000    78.000000    40.000000     3.090000\n",
       "max      32.610000  1015.000000   100.000000   100.000000     8.530000"
      ]
     },
     "execution_count": 5,
     "metadata": {},
     "output_type": "execute_result"
    }
   ],
   "source": [
    "raw_weather_df.describe()"
   ]
  },
  {
   "cell_type": "code",
   "execution_count": 6,
   "metadata": {
    "ExecuteTime": {
     "end_time": "2021-01-15T15:43:00.814441Z",
     "start_time": "2021-01-15T15:43:00.793303Z"
    }
   },
   "outputs": [
    {
     "name": "stdout",
     "output_type": "stream",
     "text": [
      "<class 'pandas.core.frame.DataFrame'>\n",
      "RangeIndex: 1560 entries, 0 to 1559\n",
      "Data columns (total 8 columns):\n",
      " #   Column               Non-Null Count  Dtype  \n",
      "---  ------               --------------  -----  \n",
      " 0   time                 1560 non-null   object \n",
      " 1   city_name            1560 non-null   object \n",
      " 2   temp                 1560 non-null   float64\n",
      " 3   pressure             1560 non-null   int64  \n",
      " 4   humidity             1560 non-null   int64  \n",
      " 5   clouds               1560 non-null   int64  \n",
      " 6   wind_speed           1560 non-null   float64\n",
      " 7   weather_description  1560 non-null   object \n",
      "dtypes: float64(2), int64(3), object(3)\n",
      "memory usage: 97.6+ KB\n"
     ]
    }
   ],
   "source": [
    "raw_weather_df.info()"
   ]
  },
  {
   "cell_type": "markdown",
   "metadata": {},
   "source": [
    "Dữ liệu được lấy bằng API nên có vẻ đầy đủ"
   ]
  },
  {
   "cell_type": "markdown",
   "metadata": {},
   "source": [
    "## Xem quan hệ và phân bố của các trường số"
   ]
  },
  {
   "cell_type": "code",
   "execution_count": 7,
   "metadata": {
    "ExecuteTime": {
     "end_time": "2021-01-15T15:43:12.623510Z",
     "start_time": "2021-01-15T15:43:00.821337Z"
    }
   },
   "outputs": [
    {
     "data": {
      "text/plain": [
       "<seaborn.axisgrid.PairGrid at 0x2906d98ea48>"
      ]
     },
     "execution_count": 7,
     "metadata": {},
     "output_type": "execute_result"
    },
    {
     "data": {
      "image/png": "[encoded data removed]",
      "text/plain": [
       "<Figure size 900x900 with 30 Axes>"
      ]
     },
     "metadata": {
      "needs_background": "light"
     },
     "output_type": "display_data"
    }
   ],
   "source": [
    "col = ['temp','pressure','humidity','clouds','wind_speed']\n",
    "sns.pairplot(raw_weather_df[col])"
   ]
  },
  {
   "cell_type": "markdown",
   "metadata": {},
   "source": [
    "# Tiền xử lí dữ liệu"
   ]
  },
  {
   "cell_type": "markdown",
   "metadata": {},
   "source": [
    "## Tạo cột output"
   ]
  },
  {
   "cell_type": "markdown",
   "metadata": {},
   "source": [
    "Vì mục tiêu của tụi mình là xem thử có thể dùng dữ liệu thời tiết hiện tại để dự đoán trước 12 tiếng không nên mình sẽ thực hiện tạo thêm một cột weather_description_12 là cột output để lưu mô tả thời tiết của 12 tiếng sau  "
   ]
  },
  {
   "cell_type": "code",
   "execution_count": 8,
   "metadata": {
    "ExecuteTime": {
     "end_time": "2021-01-15T15:43:12.664199Z",
     "start_time": "2021-01-15T15:43:12.630849Z"
    }
   },
   "outputs": [
    {
     "data": {
      "text/html": [
       "<div>\n",
       "<style scoped>\n",
       "    .dataframe tbody tr th:only-of-type {\n",
       "        vertical-align: middle;\n",
       "    }\n",
       "\n",
       "    .dataframe tbody tr th {\n",
       "        vertical-align: top;\n",
       "    }\n",
       "\n",
       "    .dataframe thead th {\n",
       "        text-align: right;\n",
       "    }\n",
       "</style>\n",
       "<table border=\"1\" class=\"dataframe\">\n",
       "  <thead>\n",
       "    <tr style=\"text-align: right;\">\n",
       "      <th></th>\n",
       "      <th>time</th>\n",
       "      <th>city_name</th>\n",
       "      <th>temp</th>\n",
       "      <th>pressure</th>\n",
       "      <th>humidity</th>\n",
       "      <th>clouds</th>\n",
       "      <th>wind_speed</th>\n",
       "      <th>weather_description</th>\n",
       "      <th>weather_description_12</th>\n",
       "    </tr>\n",
       "  </thead>\n",
       "  <tbody>\n",
       "    <tr>\n",
       "      <th>0</th>\n",
       "      <td>2021-01-09 00:00:00</td>\n",
       "      <td>THU DAU MOT</td>\n",
       "      <td>24.0</td>\n",
       "      <td>1011</td>\n",
       "      <td>69</td>\n",
       "      <td>20</td>\n",
       "      <td>1.54</td>\n",
       "      <td>few clouds</td>\n",
       "      <td></td>\n",
       "    </tr>\n",
       "    <tr>\n",
       "      <th>1</th>\n",
       "      <td>2021-01-09 01:00:00</td>\n",
       "      <td>THU DAU MOT</td>\n",
       "      <td>25.0</td>\n",
       "      <td>1012</td>\n",
       "      <td>65</td>\n",
       "      <td>98</td>\n",
       "      <td>1.54</td>\n",
       "      <td>overcast clouds</td>\n",
       "      <td></td>\n",
       "    </tr>\n",
       "    <tr>\n",
       "      <th>2</th>\n",
       "      <td>2021-01-09 02:00:00</td>\n",
       "      <td>THU DAU MOT</td>\n",
       "      <td>26.0</td>\n",
       "      <td>1012</td>\n",
       "      <td>65</td>\n",
       "      <td>20</td>\n",
       "      <td>1.03</td>\n",
       "      <td>few clouds</td>\n",
       "      <td></td>\n",
       "    </tr>\n",
       "    <tr>\n",
       "      <th>3</th>\n",
       "      <td>2021-01-09 03:00:00</td>\n",
       "      <td>THU DAU MOT</td>\n",
       "      <td>28.0</td>\n",
       "      <td>1012</td>\n",
       "      <td>57</td>\n",
       "      <td>20</td>\n",
       "      <td>2.57</td>\n",
       "      <td>few clouds</td>\n",
       "      <td></td>\n",
       "    </tr>\n",
       "    <tr>\n",
       "      <th>4</th>\n",
       "      <td>2021-01-09 04:00:00</td>\n",
       "      <td>THU DAU MOT</td>\n",
       "      <td>29.0</td>\n",
       "      <td>1011</td>\n",
       "      <td>51</td>\n",
       "      <td>20</td>\n",
       "      <td>1.54</td>\n",
       "      <td>few clouds</td>\n",
       "      <td></td>\n",
       "    </tr>\n",
       "  </tbody>\n",
       "</table>\n",
       "</div>"
      ],
      "text/plain": [
       "                  time    city_name  temp  pressure  humidity  clouds  \\\n",
       "0  2021-01-09 00:00:00  THU DAU MOT  24.0      1011        69      20   \n",
       "1  2021-01-09 01:00:00  THU DAU MOT  25.0      1012        65      98   \n",
       "2  2021-01-09 02:00:00  THU DAU MOT  26.0      1012        65      20   \n",
       "3  2021-01-09 03:00:00  THU DAU MOT  28.0      1012        57      20   \n",
       "4  2021-01-09 04:00:00  THU DAU MOT  29.0      1011        51      20   \n",
       "\n",
       "   wind_speed weather_description weather_description_12  \n",
       "0        1.54          few clouds                         \n",
       "1        1.54     overcast clouds                         \n",
       "2        1.03          few clouds                         \n",
       "3        2.57          few clouds                         \n",
       "4        1.54          few clouds                         "
      ]
     },
     "execution_count": 8,
     "metadata": {},
     "output_type": "execute_result"
    }
   ],
   "source": [
    "raw_weather_df.insert(len(raw_weather_df.columns), \"weather_description_12\", \"\")\n",
    "raw_weather_df.head()"
   ]
  },
  {
   "cell_type": "code",
   "execution_count": 9,
   "metadata": {
    "ExecuteTime": {
     "end_time": "2021-01-15T15:43:14.133507Z",
     "start_time": "2021-01-15T15:43:12.665196Z"
    }
   },
   "outputs": [
    {
     "data": {
      "text/html": [
       "<div>\n",
       "<style scoped>\n",
       "    .dataframe tbody tr th:only-of-type {\n",
       "        vertical-align: middle;\n",
       "    }\n",
       "\n",
       "    .dataframe tbody tr th {\n",
       "        vertical-align: top;\n",
       "    }\n",
       "\n",
       "    .dataframe thead th {\n",
       "        text-align: right;\n",
       "    }\n",
       "</style>\n",
       "<table border=\"1\" class=\"dataframe\">\n",
       "  <thead>\n",
       "    <tr style=\"text-align: right;\">\n",
       "      <th></th>\n",
       "      <th>time</th>\n",
       "      <th>city_name</th>\n",
       "      <th>temp</th>\n",
       "      <th>pressure</th>\n",
       "      <th>humidity</th>\n",
       "      <th>clouds</th>\n",
       "      <th>wind_speed</th>\n",
       "      <th>weather_description</th>\n",
       "      <th>weather_description_12</th>\n",
       "    </tr>\n",
       "  </thead>\n",
       "  <tbody>\n",
       "    <tr>\n",
       "      <th>0</th>\n",
       "      <td>2021-01-09 00:00:00</td>\n",
       "      <td>THU DAU MOT</td>\n",
       "      <td>24.0</td>\n",
       "      <td>1011.0</td>\n",
       "      <td>69.0</td>\n",
       "      <td>20.0</td>\n",
       "      <td>1.54</td>\n",
       "      <td>few clouds</td>\n",
       "      <td>scattered clouds</td>\n",
       "    </tr>\n",
       "    <tr>\n",
       "      <th>1</th>\n",
       "      <td>2021-01-09 01:00:00</td>\n",
       "      <td>THU DAU MOT</td>\n",
       "      <td>25.0</td>\n",
       "      <td>1012.0</td>\n",
       "      <td>65.0</td>\n",
       "      <td>98.0</td>\n",
       "      <td>1.54</td>\n",
       "      <td>overcast clouds</td>\n",
       "      <td>scattered clouds</td>\n",
       "    </tr>\n",
       "    <tr>\n",
       "      <th>2</th>\n",
       "      <td>2021-01-09 02:00:00</td>\n",
       "      <td>THU DAU MOT</td>\n",
       "      <td>26.0</td>\n",
       "      <td>1012.0</td>\n",
       "      <td>65.0</td>\n",
       "      <td>20.0</td>\n",
       "      <td>1.03</td>\n",
       "      <td>few clouds</td>\n",
       "      <td>scattered clouds</td>\n",
       "    </tr>\n",
       "    <tr>\n",
       "      <th>3</th>\n",
       "      <td>2021-01-09 03:00:00</td>\n",
       "      <td>THU DAU MOT</td>\n",
       "      <td>28.0</td>\n",
       "      <td>1012.0</td>\n",
       "      <td>57.0</td>\n",
       "      <td>20.0</td>\n",
       "      <td>2.57</td>\n",
       "      <td>few clouds</td>\n",
       "      <td>scattered clouds</td>\n",
       "    </tr>\n",
       "    <tr>\n",
       "      <th>4</th>\n",
       "      <td>2021-01-09 04:00:00</td>\n",
       "      <td>THU DAU MOT</td>\n",
       "      <td>29.0</td>\n",
       "      <td>1011.0</td>\n",
       "      <td>51.0</td>\n",
       "      <td>20.0</td>\n",
       "      <td>1.54</td>\n",
       "      <td>few clouds</td>\n",
       "      <td>scattered clouds</td>\n",
       "    </tr>\n",
       "    <tr>\n",
       "      <th>...</th>\n",
       "      <td>...</td>\n",
       "      <td>...</td>\n",
       "      <td>...</td>\n",
       "      <td>...</td>\n",
       "      <td>...</td>\n",
       "      <td>...</td>\n",
       "      <td>...</td>\n",
       "      <td>...</td>\n",
       "      <td>...</td>\n",
       "    </tr>\n",
       "    <tr>\n",
       "      <th>-5</th>\n",
       "      <td>NaN</td>\n",
       "      <td>NaN</td>\n",
       "      <td>NaN</td>\n",
       "      <td>NaN</td>\n",
       "      <td>NaN</td>\n",
       "      <td>NaN</td>\n",
       "      <td>NaN</td>\n",
       "      <td>NaN</td>\n",
       "      <td>few clouds</td>\n",
       "    </tr>\n",
       "    <tr>\n",
       "      <th>-4</th>\n",
       "      <td>NaN</td>\n",
       "      <td>NaN</td>\n",
       "      <td>NaN</td>\n",
       "      <td>NaN</td>\n",
       "      <td>NaN</td>\n",
       "      <td>NaN</td>\n",
       "      <td>NaN</td>\n",
       "      <td>NaN</td>\n",
       "      <td>scattered clouds</td>\n",
       "    </tr>\n",
       "    <tr>\n",
       "      <th>-3</th>\n",
       "      <td>NaN</td>\n",
       "      <td>NaN</td>\n",
       "      <td>NaN</td>\n",
       "      <td>NaN</td>\n",
       "      <td>NaN</td>\n",
       "      <td>NaN</td>\n",
       "      <td>NaN</td>\n",
       "      <td>NaN</td>\n",
       "      <td>scattered clouds</td>\n",
       "    </tr>\n",
       "    <tr>\n",
       "      <th>-2</th>\n",
       "      <td>NaN</td>\n",
       "      <td>NaN</td>\n",
       "      <td>NaN</td>\n",
       "      <td>NaN</td>\n",
       "      <td>NaN</td>\n",
       "      <td>NaN</td>\n",
       "      <td>NaN</td>\n",
       "      <td>NaN</td>\n",
       "      <td>scattered clouds</td>\n",
       "    </tr>\n",
       "    <tr>\n",
       "      <th>-1</th>\n",
       "      <td>NaN</td>\n",
       "      <td>NaN</td>\n",
       "      <td>NaN</td>\n",
       "      <td>NaN</td>\n",
       "      <td>NaN</td>\n",
       "      <td>NaN</td>\n",
       "      <td>NaN</td>\n",
       "      <td>NaN</td>\n",
       "      <td>scattered clouds</td>\n",
       "    </tr>\n",
       "  </tbody>\n",
       "</table>\n",
       "<p>1572 rows × 9 columns</p>\n",
       "</div>"
      ],
      "text/plain": [
       "                   time    city_name  temp  pressure  humidity  clouds  \\\n",
       " 0  2021-01-09 00:00:00  THU DAU MOT  24.0    1011.0      69.0    20.0   \n",
       " 1  2021-01-09 01:00:00  THU DAU MOT  25.0    1012.0      65.0    98.0   \n",
       " 2  2021-01-09 02:00:00  THU DAU MOT  26.0    1012.0      65.0    20.0   \n",
       " 3  2021-01-09 03:00:00  THU DAU MOT  28.0    1012.0      57.0    20.0   \n",
       " 4  2021-01-09 04:00:00  THU DAU MOT  29.0    1011.0      51.0    20.0   \n",
       "..                  ...          ...   ...       ...       ...     ...   \n",
       "-5                  NaN          NaN   NaN       NaN       NaN     NaN   \n",
       "-4                  NaN          NaN   NaN       NaN       NaN     NaN   \n",
       "-3                  NaN          NaN   NaN       NaN       NaN     NaN   \n",
       "-2                  NaN          NaN   NaN       NaN       NaN     NaN   \n",
       "-1                  NaN          NaN   NaN       NaN       NaN     NaN   \n",
       "\n",
       "    wind_speed weather_description weather_description_12  \n",
       " 0        1.54          few clouds       scattered clouds  \n",
       " 1        1.54     overcast clouds       scattered clouds  \n",
       " 2        1.03          few clouds       scattered clouds  \n",
       " 3        2.57          few clouds       scattered clouds  \n",
       " 4        1.54          few clouds       scattered clouds  \n",
       "..         ...                 ...                    ...  \n",
       "-5         NaN                 NaN             few clouds  \n",
       "-4         NaN                 NaN       scattered clouds  \n",
       "-3         NaN                 NaN       scattered clouds  \n",
       "-2         NaN                 NaN       scattered clouds  \n",
       "-1         NaN                 NaN       scattered clouds  \n",
       "\n",
       "[1572 rows x 9 columns]"
      ]
     },
     "execution_count": 9,
     "metadata": {},
     "output_type": "execute_result"
    }
   ],
   "source": [
    "for row in range(0,raw_weather_df.shape[0]):\n",
    "#     raw_weather_df['weather_description_12'][row+12] = raw_weather_df['weather description'][row]\n",
    "     raw_weather_df.loc[row-12,'weather_description_12'] = raw_weather_df['weather_description'][row]\n",
    "raw_weather_df"
   ]
  },
  {
   "cell_type": "markdown",
   "metadata": {},
   "source": [
    "Khi làm cách này ta sẽ bị dư ra bao gồm 24 dòng, bao gồm 12 dòng rỗng và 12 dòng cuối của dataframe mà cột weather_description_12 không có dữ liệu, chỉ việc bỏ các cột này"
   ]
  },
  {
   "cell_type": "code",
   "execution_count": 10,
   "metadata": {
    "ExecuteTime": {
     "end_time": "2021-01-15T15:43:14.153981Z",
     "start_time": "2021-01-15T15:43:14.137057Z"
    }
   },
   "outputs": [],
   "source": [
    "raw_weather_df = raw_weather_df.dropna()\n",
    "raw_weather_df = raw_weather_df[raw_weather_df['weather_description_12'] != '']"
   ]
  },
  {
   "cell_type": "markdown",
   "metadata": {},
   "source": [
    "Ngoài ta ta sẽ cần loại bỏ 12 dòng cuối của mỗi thành phố vì chúng lẫn với thời tiết thành phố khác"
   ]
  },
  {
   "cell_type": "code",
   "execution_count": 11,
   "metadata": {
    "ExecuteTime": {
     "end_time": "2021-01-15T15:43:14.161871Z",
     "start_time": "2021-01-15T15:43:14.153981Z"
    }
   },
   "outputs": [],
   "source": [
    "weather_df = raw_weather_df[raw_weather_df['time'] <= '2021-01-13 11:00:00']"
   ]
  },
  {
   "cell_type": "markdown",
   "metadata": {},
   "source": [
    "Để chuyển đổi cột output sang dạng số, tụi mình cần xem thử cột có những giá trị nào, nhưng sẽ không xem tỉ lệ của cụ thể từng giá trị để tránh làm mất tính khách quan của tập dữ liệu"
   ]
  },
  {
   "cell_type": "code",
   "execution_count": 12,
   "metadata": {
    "ExecuteTime": {
     "end_time": "2021-01-15T15:43:14.173262Z",
     "start_time": "2021-01-15T15:43:14.164871Z"
    }
   },
   "outputs": [
    {
     "name": "stdout",
     "output_type": "stream",
     "text": [
      "5\n",
      "['scattered clouds' 'broken clouds' 'few clouds' 'clear sky'\n",
      " 'overcast clouds']\n"
     ]
    }
   ],
   "source": [
    "nunique_weather = weather_df['weather_description_12'].nunique()\n",
    "print(nunique_weather)\n",
    "unique_weather = weather_df['weather_description_12'].unique()\n",
    "print(unique_weather)"
   ]
  },
  {
   "cell_type": "markdown",
   "metadata": {
    "ExecuteTime": {
     "end_time": "2021-01-14T16:55:19.558742Z",
     "start_time": "2021-01-14T16:55:19.555740Z"
    }
   },
   "source": [
    "## Tách tập train, validate và test"
   ]
  },
  {
   "cell_type": "code",
   "execution_count": 13,
   "metadata": {
    "ExecuteTime": {
     "end_time": "2021-01-15T15:43:14.185267Z",
     "start_time": "2021-01-15T15:43:14.176047Z"
    }
   },
   "outputs": [],
   "source": [
    "Y = weather_df['weather_description_12']\n",
    "X = weather_df.drop(columns = ['weather_description_12'])"
   ]
  },
  {
   "cell_type": "code",
   "execution_count": 14,
   "metadata": {
    "ExecuteTime": {
     "end_time": "2021-01-15T15:43:14.196370Z",
     "start_time": "2021-01-15T15:43:14.188833Z"
    }
   },
   "outputs": [
    {
     "data": {
      "text/plain": [
       "(1404, 8)"
      ]
     },
     "execution_count": 14,
     "metadata": {},
     "output_type": "execute_result"
    }
   ],
   "source": [
    "X.shape"
   ]
  },
  {
   "cell_type": "code",
   "execution_count": 15,
   "metadata": {
    "ExecuteTime": {
     "end_time": "2021-01-15T15:43:14.207479Z",
     "start_time": "2021-01-15T15:43:14.199889Z"
    }
   },
   "outputs": [
    {
     "data": {
      "text/plain": [
       "(1404,)"
      ]
     },
     "execution_count": 15,
     "metadata": {},
     "output_type": "execute_result"
    }
   ],
   "source": [
    "Y.shape"
   ]
  },
  {
   "cell_type": "code",
   "execution_count": 16,
   "metadata": {
    "ExecuteTime": {
     "end_time": "2021-01-15T15:43:14.223506Z",
     "start_time": "2021-01-15T15:43:14.210408Z"
    }
   },
   "outputs": [
    {
     "name": "stdout",
     "output_type": "stream",
     "text": [
      "X train shape: (1123, 8), X test shape: (281, 8)\n",
      "Y train shape: (1123,), Y test shape: (281,)\n"
     ]
    }
   ],
   "source": [
    "X_train, X_test, Y_train, Y_test = train_test_split(X,Y,test_size = 0.2, random_state = 13)\n",
    "\n",
    "print(\"X train shape: {}, X test shape: {}\".format(X_train.shape,X_test.shape))\n",
    "print(\"Y train shape: {}, Y test shape: {}\".format(Y_train.shape,Y_test.shape))"
   ]
  },
  {
   "cell_type": "markdown",
   "metadata": {
    "ExecuteTime": {
     "end_time": "2021-01-14T18:46:12.833504Z",
     "start_time": "2021-01-14T18:46:12.816541Z"
    }
   },
   "source": [
    "## Khám phá lại dữ liệu huấn luyện để tiền xử lí"
   ]
  },
  {
   "cell_type": "markdown",
   "metadata": {
    "ExecuteTime": {
     "end_time": "2021-01-15T03:57:37.280567Z",
     "start_time": "2021-01-15T03:57:37.277599Z"
    }
   },
   "source": [
    "### Kiểu dữ liệu"
   ]
  },
  {
   "cell_type": "code",
   "execution_count": 17,
   "metadata": {
    "ExecuteTime": {
     "end_time": "2021-01-15T15:43:14.241067Z",
     "start_time": "2021-01-15T15:43:14.226746Z"
    }
   },
   "outputs": [
    {
     "name": "stdout",
     "output_type": "stream",
     "text": [
      "<class 'pandas.core.frame.DataFrame'>\n",
      "Int64Index: 1123 entries, 1461 to 374\n",
      "Data columns (total 8 columns):\n",
      " #   Column               Non-Null Count  Dtype  \n",
      "---  ------               --------------  -----  \n",
      " 0   time                 1123 non-null   object \n",
      " 1   city_name            1123 non-null   object \n",
      " 2   temp                 1123 non-null   float64\n",
      " 3   pressure             1123 non-null   float64\n",
      " 4   humidity             1123 non-null   float64\n",
      " 5   clouds               1123 non-null   float64\n",
      " 6   wind_speed           1123 non-null   float64\n",
      " 7   weather_description  1123 non-null   object \n",
      "dtypes: float64(5), object(3)\n",
      "memory usage: 79.0+ KB\n"
     ]
    }
   ],
   "source": [
    "X_train.info()"
   ]
  },
  {
   "cell_type": "markdown",
   "metadata": {},
   "source": [
    "### Xem thử cột weather_description\t có những giá trị nào"
   ]
  },
  {
   "cell_type": "code",
   "execution_count": 18,
   "metadata": {
    "ExecuteTime": {
     "end_time": "2021-01-15T15:43:14.270357Z",
     "start_time": "2021-01-15T15:43:14.243030Z"
    }
   },
   "outputs": [
    {
     "name": "stdout",
     "output_type": "stream",
     "text": [
      "5\n",
      "{'few clouds': 42.12, 'scattered clouds': 30.19, 'broken clouds': 11.93, 'clear sky': 11.22, 'overcast clouds': 4.54}\n"
     ]
    }
   ],
   "source": [
    "print(X_train['weather_description'].nunique())\n",
    "label_weight = dict((X_train['weather_description'].value_counts(normalize=True)*100).round(2))\n",
    "print(label_weight)"
   ]
  },
  {
   "cell_type": "markdown",
   "metadata": {},
   "source": [
    "Có vẻ là lấy thời gian khá gần nên thời tiết chủ đạo ở miền nam trong thời gian này là có mây các dạng: ít mấy, mây rải rác, mây vỡ hoặc nhiều mây hoặc trời trong xanh"
   ]
  },
  {
   "cell_type": "code",
   "execution_count": 19,
   "metadata": {
    "ExecuteTime": {
     "end_time": "2021-01-15T15:43:14.293762Z",
     "start_time": "2021-01-15T15:43:14.270357Z"
    }
   },
   "outputs": [
    {
     "data": {
      "text/html": [
       "<div>\n",
       "<style scoped>\n",
       "    .dataframe tbody tr th:only-of-type {\n",
       "        vertical-align: middle;\n",
       "    }\n",
       "\n",
       "    .dataframe tbody tr th {\n",
       "        vertical-align: top;\n",
       "    }\n",
       "\n",
       "    .dataframe thead th {\n",
       "        text-align: right;\n",
       "    }\n",
       "</style>\n",
       "<table border=\"1\" class=\"dataframe\">\n",
       "  <thead>\n",
       "    <tr style=\"text-align: right;\">\n",
       "      <th></th>\n",
       "      <th>time</th>\n",
       "      <th>city_name</th>\n",
       "      <th>temp</th>\n",
       "      <th>pressure</th>\n",
       "      <th>humidity</th>\n",
       "      <th>clouds</th>\n",
       "      <th>wind_speed</th>\n",
       "      <th>weather_description</th>\n",
       "    </tr>\n",
       "  </thead>\n",
       "  <tbody>\n",
       "    <tr>\n",
       "      <th>1461</th>\n",
       "      <td>2021-01-09 21:00:00</td>\n",
       "      <td>CAN GIO</td>\n",
       "      <td>23.0</td>\n",
       "      <td>1009.0</td>\n",
       "      <td>73.0</td>\n",
       "      <td>40.0</td>\n",
       "      <td>1.54</td>\n",
       "      <td>scattered clouds</td>\n",
       "    </tr>\n",
       "    <tr>\n",
       "      <th>408</th>\n",
       "      <td>2021-01-11 00:00:00</td>\n",
       "      <td>TAN AN</td>\n",
       "      <td>22.0</td>\n",
       "      <td>1011.0</td>\n",
       "      <td>78.0</td>\n",
       "      <td>20.0</td>\n",
       "      <td>2.06</td>\n",
       "      <td>few clouds</td>\n",
       "    </tr>\n",
       "    <tr>\n",
       "      <th>1355</th>\n",
       "      <td>2021-01-10 11:00:00</td>\n",
       "      <td>CAN THO</td>\n",
       "      <td>26.0</td>\n",
       "      <td>1010.0</td>\n",
       "      <td>83.0</td>\n",
       "      <td>75.0</td>\n",
       "      <td>2.06</td>\n",
       "      <td>broken clouds</td>\n",
       "    </tr>\n",
       "    <tr>\n",
       "      <th>120</th>\n",
       "      <td>2021-01-09 00:00:00</td>\n",
       "      <td>THANH PHO HO CHI MINH</td>\n",
       "      <td>24.0</td>\n",
       "      <td>1011.0</td>\n",
       "      <td>69.0</td>\n",
       "      <td>20.0</td>\n",
       "      <td>1.54</td>\n",
       "      <td>few clouds</td>\n",
       "    </tr>\n",
       "    <tr>\n",
       "      <th>0</th>\n",
       "      <td>2021-01-09 00:00:00</td>\n",
       "      <td>THU DAU MOT</td>\n",
       "      <td>24.0</td>\n",
       "      <td>1011.0</td>\n",
       "      <td>69.0</td>\n",
       "      <td>20.0</td>\n",
       "      <td>1.54</td>\n",
       "      <td>few clouds</td>\n",
       "    </tr>\n",
       "  </tbody>\n",
       "</table>\n",
       "</div>"
      ],
      "text/plain": [
       "                     time              city_name  temp  pressure  humidity  \\\n",
       "1461  2021-01-09 21:00:00                CAN GIO  23.0    1009.0      73.0   \n",
       "408   2021-01-11 00:00:00                 TAN AN  22.0    1011.0      78.0   \n",
       "1355  2021-01-10 11:00:00                CAN THO  26.0    1010.0      83.0   \n",
       "120   2021-01-09 00:00:00  THANH PHO HO CHI MINH  24.0    1011.0      69.0   \n",
       "0     2021-01-09 00:00:00            THU DAU MOT  24.0    1011.0      69.0   \n",
       "\n",
       "      clouds  wind_speed weather_description  \n",
       "1461    40.0        1.54    scattered clouds  \n",
       "408     20.0        2.06          few clouds  \n",
       "1355    75.0        2.06       broken clouds  \n",
       "120     20.0        1.54          few clouds  \n",
       "0       20.0        1.54          few clouds  "
      ]
     },
     "execution_count": 19,
     "metadata": {},
     "output_type": "execute_result"
    }
   ],
   "source": [
    "X_train.head()"
   ]
  },
  {
   "cell_type": "markdown",
   "metadata": {
    "ExecuteTime": {
     "end_time": "2021-01-14T19:10:16.411073Z",
     "start_time": "2021-01-14T19:10:16.404019Z"
    }
   },
   "source": [
    "## Tiếp tục tiền xử lí"
   ]
  },
  {
   "cell_type": "markdown",
   "metadata": {},
   "source": [
    "Các bước tiền xử lí:\n",
    "- Bỏ đi cột city name vì thời tiết của các tỉnh miền nam khá giống nhau nên giữ không có ý nghĩa\n",
    "- Cột thời gian mình rút gọn chỉ lấy giờ, bởi vì chúng mình dự đoán dựa vào dữ liệu của 12 giờ trước nên mình nghĩ 12 giờ trước đang là thời gian nào ngày cũng khá quan trọng\n",
    "- Cột weather_description tụi mình sẽ OneHotEncoder\n",
    "- Cuối cùng là chuẩn hóa sau khi các cột đã có dạng số"
   ]
  },
  {
   "cell_type": "markdown",
   "metadata": {},
   "source": [
    "### Bỏ cột city name, chuyển cột thời gian sang giờ"
   ]
  },
  {
   "cell_type": "code",
   "execution_count": 20,
   "metadata": {
    "ExecuteTime": {
     "end_time": "2021-01-15T15:43:14.306844Z",
     "start_time": "2021-01-15T15:43:14.294762Z"
    }
   },
   "outputs": [],
   "source": [
    "class DropCol(BaseEstimator, TransformerMixin):\n",
    "    def _init_(self):\n",
    "        return self\n",
    "    def fit(self, X, Y=None):\n",
    "        return self\n",
    "    def transform(self, X, Y=None):\n",
    "        temp_X_df = X.copy()\n",
    "        temp_X_df = temp_X_df.drop(columns = ['city_name'])\n",
    "        for i in range(len(temp_X_df['time'])):\n",
    "            temp_X_df['time'].iloc[i] = datetime.strptime(temp_X_df['time'].iloc[i],'%Y-%m-%d %H:%M:%S').hour\n",
    "        return temp_X_df"
   ]
  },
  {
   "cell_type": "code",
   "execution_count": 21,
   "metadata": {
    "ExecuteTime": {
     "end_time": "2021-01-15T15:43:14.701581Z",
     "start_time": "2021-01-15T15:43:14.309293Z"
    }
   },
   "outputs": [
    {
     "data": {
      "text/html": [
       "<div>\n",
       "<style scoped>\n",
       "    .dataframe tbody tr th:only-of-type {\n",
       "        vertical-align: middle;\n",
       "    }\n",
       "\n",
       "    .dataframe tbody tr th {\n",
       "        vertical-align: top;\n",
       "    }\n",
       "\n",
       "    .dataframe thead th {\n",
       "        text-align: right;\n",
       "    }\n",
       "</style>\n",
       "<table border=\"1\" class=\"dataframe\">\n",
       "  <thead>\n",
       "    <tr style=\"text-align: right;\">\n",
       "      <th></th>\n",
       "      <th>time</th>\n",
       "      <th>temp</th>\n",
       "      <th>pressure</th>\n",
       "      <th>humidity</th>\n",
       "      <th>clouds</th>\n",
       "      <th>wind_speed</th>\n",
       "      <th>weather_description</th>\n",
       "    </tr>\n",
       "  </thead>\n",
       "  <tbody>\n",
       "    <tr>\n",
       "      <th>1461</th>\n",
       "      <td>21</td>\n",
       "      <td>23.0</td>\n",
       "      <td>1009.0</td>\n",
       "      <td>73.0</td>\n",
       "      <td>40.0</td>\n",
       "      <td>1.54</td>\n",
       "      <td>scattered clouds</td>\n",
       "    </tr>\n",
       "    <tr>\n",
       "      <th>408</th>\n",
       "      <td>0</td>\n",
       "      <td>22.0</td>\n",
       "      <td>1011.0</td>\n",
       "      <td>78.0</td>\n",
       "      <td>20.0</td>\n",
       "      <td>2.06</td>\n",
       "      <td>few clouds</td>\n",
       "    </tr>\n",
       "    <tr>\n",
       "      <th>1355</th>\n",
       "      <td>11</td>\n",
       "      <td>26.0</td>\n",
       "      <td>1010.0</td>\n",
       "      <td>83.0</td>\n",
       "      <td>75.0</td>\n",
       "      <td>2.06</td>\n",
       "      <td>broken clouds</td>\n",
       "    </tr>\n",
       "    <tr>\n",
       "      <th>120</th>\n",
       "      <td>0</td>\n",
       "      <td>24.0</td>\n",
       "      <td>1011.0</td>\n",
       "      <td>69.0</td>\n",
       "      <td>20.0</td>\n",
       "      <td>1.54</td>\n",
       "      <td>few clouds</td>\n",
       "    </tr>\n",
       "    <tr>\n",
       "      <th>0</th>\n",
       "      <td>0</td>\n",
       "      <td>24.0</td>\n",
       "      <td>1011.0</td>\n",
       "      <td>69.0</td>\n",
       "      <td>20.0</td>\n",
       "      <td>1.54</td>\n",
       "      <td>few clouds</td>\n",
       "    </tr>\n",
       "    <tr>\n",
       "      <th>...</th>\n",
       "      <td>...</td>\n",
       "      <td>...</td>\n",
       "      <td>...</td>\n",
       "      <td>...</td>\n",
       "      <td>...</td>\n",
       "      <td>...</td>\n",
       "      <td>...</td>\n",
       "    </tr>\n",
       "    <tr>\n",
       "      <th>962</th>\n",
       "      <td>2</td>\n",
       "      <td>26.0</td>\n",
       "      <td>1011.0</td>\n",
       "      <td>57.0</td>\n",
       "      <td>0.0</td>\n",
       "      <td>4.12</td>\n",
       "      <td>clear sky</td>\n",
       "    </tr>\n",
       "    <tr>\n",
       "      <th>814</th>\n",
       "      <td>22</td>\n",
       "      <td>19.0</td>\n",
       "      <td>1011.0</td>\n",
       "      <td>77.0</td>\n",
       "      <td>20.0</td>\n",
       "      <td>1.54</td>\n",
       "      <td>few clouds</td>\n",
       "    </tr>\n",
       "    <tr>\n",
       "      <th>74</th>\n",
       "      <td>2</td>\n",
       "      <td>24.0</td>\n",
       "      <td>1014.0</td>\n",
       "      <td>57.0</td>\n",
       "      <td>20.0</td>\n",
       "      <td>3.60</td>\n",
       "      <td>few clouds</td>\n",
       "    </tr>\n",
       "    <tr>\n",
       "      <th>188</th>\n",
       "      <td>20</td>\n",
       "      <td>22.0</td>\n",
       "      <td>1011.0</td>\n",
       "      <td>68.0</td>\n",
       "      <td>40.0</td>\n",
       "      <td>2.57</td>\n",
       "      <td>scattered clouds</td>\n",
       "    </tr>\n",
       "    <tr>\n",
       "      <th>374</th>\n",
       "      <td>14</td>\n",
       "      <td>26.0</td>\n",
       "      <td>1010.0</td>\n",
       "      <td>73.0</td>\n",
       "      <td>40.0</td>\n",
       "      <td>1.54</td>\n",
       "      <td>scattered clouds</td>\n",
       "    </tr>\n",
       "  </tbody>\n",
       "</table>\n",
       "<p>1123 rows × 7 columns</p>\n",
       "</div>"
      ],
      "text/plain": [
       "     time  temp  pressure  humidity  clouds  wind_speed weather_description\n",
       "1461   21  23.0    1009.0      73.0    40.0        1.54    scattered clouds\n",
       "408     0  22.0    1011.0      78.0    20.0        2.06          few clouds\n",
       "1355   11  26.0    1010.0      83.0    75.0        2.06       broken clouds\n",
       "120     0  24.0    1011.0      69.0    20.0        1.54          few clouds\n",
       "0       0  24.0    1011.0      69.0    20.0        1.54          few clouds\n",
       "...   ...   ...       ...       ...     ...         ...                 ...\n",
       "962     2  26.0    1011.0      57.0     0.0        4.12           clear sky\n",
       "814    22  19.0    1011.0      77.0    20.0        1.54          few clouds\n",
       "74      2  24.0    1014.0      57.0    20.0        3.60          few clouds\n",
       "188    20  22.0    1011.0      68.0    40.0        2.57    scattered clouds\n",
       "374    14  26.0    1010.0      73.0    40.0        1.54    scattered clouds\n",
       "\n",
       "[1123 rows x 7 columns]"
      ]
     },
     "execution_count": 21,
     "metadata": {},
     "output_type": "execute_result"
    }
   ],
   "source": [
    "transformer = DropCol()\n",
    "transformer.fit(X_train)\n",
    "processed_X_train_df = transformer.transform(X_train)\n",
    "processed_X_train_df"
   ]
  },
  {
   "cell_type": "markdown",
   "metadata": {},
   "source": [
    "### Tạo pipeline để tiền xử lí"
   ]
  },
  {
   "cell_type": "code",
   "execution_count": 22,
   "metadata": {
    "ExecuteTime": {
     "end_time": "2021-01-15T15:43:15.217402Z",
     "start_time": "2021-01-15T15:43:14.710469Z"
    }
   },
   "outputs": [
    {
     "name": "stdout",
     "output_type": "stream",
     "text": [
      "(1123, 11)\n"
     ]
    },
    {
     "data": {
      "text/plain": [
       "array([[-0.3680902 , -0.35549844, -0.85304883, ...,  0.42423779,\n",
       "         0.25704401, -0.68960332],\n",
       "       [-0.3680902 , -0.35549844,  1.17226584, ...,  0.72550189,\n",
       "        -0.57519017, -0.25842311],\n",
       "       [ 2.71672542, -0.35549844, -0.85304883, ...,  1.02676598,\n",
       "         1.71345384, -0.25842311],\n",
       "       ...,\n",
       "       [-0.3680902 , -0.35549844,  1.17226584, ..., -0.53980731,\n",
       "        -0.57519017,  1.01853365],\n",
       "       [-0.3680902 , -0.35549844, -0.85304883, ...,  0.1229737 ,\n",
       "         0.25704401,  0.16446517],\n",
       "       [-0.3680902 , -0.35549844, -0.85304883, ...,  0.42423779,\n",
       "         0.25704401, -0.68960332]])"
      ]
     },
     "execution_count": 22,
     "metadata": {},
     "output_type": "execute_result"
    }
   ],
   "source": [
    "preprocess_pipe = make_pipeline(DropCol(),\n",
    "                                make_column_transformer((OneHotEncoder(sparse = False),['weather_description']),\n",
    "                                                       remainder='passthrough'),\n",
    "                                StandardScaler())\n",
    "processed_X_train_df = preprocess_pipe.fit_transform(X_train)\n",
    "print(processed_X_train_df.shape)\n",
    "processed_X_train_df"
   ]
  },
  {
   "cell_type": "markdown",
   "metadata": {
    "ExecuteTime": {
     "end_time": "2021-01-15T08:12:17.057379Z",
     "start_time": "2021-01-15T08:12:08.802Z"
    }
   },
   "source": [
    "### Tiền xử lí tập test"
   ]
  },
  {
   "cell_type": "code",
   "execution_count": 23,
   "metadata": {
    "ExecuteTime": {
     "end_time": "2021-01-15T15:43:15.376383Z",
     "start_time": "2021-01-15T15:43:15.226189Z"
    }
   },
   "outputs": [
    {
     "name": "stdout",
     "output_type": "stream",
     "text": [
      "(281, 11)\n"
     ]
    },
    {
     "data": {
      "text/plain": [
       "array([[-0.40740042, -0.39544734,  1.27521301, ..., -0.7104714 ,\n",
       "        -0.89042701,  1.27522834],\n",
       "       [-0.40740042, -0.39544734, -0.78418271, ..., -1.61165617,\n",
       "         0.15289089,  0.61647066],\n",
       "       [-0.40740042, -0.39544734, -0.78418271, ..., -0.7104714 ,\n",
       "         0.15289089,  0.61647066],\n",
       "       ...,\n",
       "       [-0.40740042, -0.39544734, -0.78418271, ...,  0.49110828,\n",
       "         0.15289089, -0.24241594],\n",
       "       [-0.40740042, -0.39544734,  1.27521301, ..., -1.13102429,\n",
       "        -0.59233618, -0.24241594],\n",
       "       [-0.40740042, -0.39544734, -0.78418271, ..., -0.28991851,\n",
       "         2.35131075,  1.45034114]])"
      ]
     },
     "execution_count": 23,
     "metadata": {},
     "output_type": "execute_result"
    }
   ],
   "source": [
    "processed_X_test_df = preprocess_pipe.fit_transform(X_test)\n",
    "print(processed_X_test_df.shape)\n",
    "processed_X_test_df"
   ]
  },
  {
   "cell_type": "markdown",
   "metadata": {},
   "source": [
    "# Mô hình hóa "
   ]
  },
  {
   "cell_type": "markdown",
   "metadata": {},
   "source": [
    "## Full pipeline với LogisticRegression"
   ]
  },
  {
   "cell_type": "code",
   "execution_count": 36,
   "metadata": {
    "ExecuteTime": {
     "end_time": "2021-01-15T15:48:48.448821Z",
     "start_time": "2021-01-15T15:48:48.440967Z"
    }
   },
   "outputs": [],
   "source": [
    "from sklearn.linear_model import LogisticRegression"
   ]
  },
  {
   "cell_type": "code",
   "execution_count": 37,
   "metadata": {
    "ExecuteTime": {
     "end_time": "2021-01-15T15:48:48.565705Z",
     "start_time": "2021-01-15T15:48:48.453294Z"
    },
    "scrolled": true
   },
   "outputs": [
    {
     "data": {
      "text/html": [
       "<style>div.sk-top-container {color: black;background-color: white;}div.sk-toggleable {background-color: white;}label.sk-toggleable__label {cursor: pointer;display: block;width: 100%;margin-bottom: 0;padding: 0.2em 0.3em;box-sizing: border-box;text-align: center;}div.sk-toggleable__content {max-height: 0;max-width: 0;overflow: hidden;text-align: left;background-color: #f0f8ff;}div.sk-toggleable__content pre {margin: 0.2em;color: black;border-radius: 0.25em;background-color: #f0f8ff;}input.sk-toggleable__control:checked~div.sk-toggleable__content {max-height: 200px;max-width: 100%;overflow: auto;}div.sk-estimator input.sk-toggleable__control:checked~label.sk-toggleable__label {background-color: #d4ebff;}div.sk-label input.sk-toggleable__control:checked~label.sk-toggleable__label {background-color: #d4ebff;}input.sk-hidden--visually {border: 0;clip: rect(1px 1px 1px 1px);clip: rect(1px, 1px, 1px, 1px);height: 1px;margin: -1px;overflow: hidden;padding: 0;position: absolute;width: 1px;}div.sk-estimator {font-family: monospace;background-color: #f0f8ff;margin: 0.25em 0.25em;border: 1px dotted black;border-radius: 0.25em;box-sizing: border-box;}div.sk-estimator:hover {background-color: #d4ebff;}div.sk-parallel-item::after {content: \"\";width: 100%;border-bottom: 1px solid gray;flex-grow: 1;}div.sk-label:hover label.sk-toggleable__label {background-color: #d4ebff;}div.sk-serial::before {content: \"\";position: absolute;border-left: 1px solid gray;box-sizing: border-box;top: 2em;bottom: 0;left: 50%;}div.sk-serial {display: flex;flex-direction: column;align-items: center;background-color: white;}div.sk-item {z-index: 1;}div.sk-parallel {display: flex;align-items: stretch;justify-content: center;background-color: white;}div.sk-parallel-item {display: flex;flex-direction: column;position: relative;background-color: white;}div.sk-parallel-item:first-child::after {align-self: flex-end;width: 50%;}div.sk-parallel-item:last-child::after {align-self: flex-start;width: 50%;}div.sk-parallel-item:only-child::after {width: 0;}div.sk-dashed-wrapped {border: 1px dashed gray;margin: 0.2em;box-sizing: border-box;padding-bottom: 0.1em;background-color: white;position: relative;}div.sk-label label {font-family: monospace;font-weight: bold;background-color: white;display: inline-block;line-height: 1.2em;}div.sk-label-container {position: relative;z-index: 2;text-align: center;}div.sk-container {display: inline-block;position: relative;}</style><div class=\"sk-top-container\"><div class=\"sk-container\"><div class=\"sk-item sk-dashed-wrapped\"><div class=\"sk-label-container\"><div class=\"sk-label sk-toggleable\"><input class=\"sk-toggleable__control sk-hidden--visually\" id=\"a4259679-4cb2-4bd3-922d-1ad5bd6a05b4\" type=\"checkbox\" ><label class=\"sk-toggleable__label\" for=\"a4259679-4cb2-4bd3-922d-1ad5bd6a05b4\">Pipeline</label><div class=\"sk-toggleable__content\"><pre>Pipeline(steps=[('pipeline',\n",
       "                 Pipeline(steps=[('dropcol', DropCol()),\n",
       "                                 ('columntransformer',\n",
       "                                  ColumnTransformer(remainder='passthrough',\n",
       "                                                    transformers=[('onehotencoder',\n",
       "                                                                   OneHotEncoder(sparse=False),\n",
       "                                                                   ['weather_description'])])),\n",
       "                                 ('standardscaler', StandardScaler())])),\n",
       "                ('logisticregression',\n",
       "                 LogisticRegression(multi_class='multinomial'))])</pre></div></div></div><div class=\"sk-serial\"><div class=\"sk-item\"><div class=\"sk-label-container\"><div class=\"sk-label sk-toggleable\"><input class=\"sk-toggleable__control sk-hidden--visually\" id=\"cea91782-e8cf-47ef-b904-36d5c2ae98d7\" type=\"checkbox\" ><label class=\"sk-toggleable__label\" for=\"cea91782-e8cf-47ef-b904-36d5c2ae98d7\">pipeline: Pipeline</label><div class=\"sk-toggleable__content\"><pre>Pipeline(steps=[('dropcol', DropCol()),\n",
       "                ('columntransformer',\n",
       "                 ColumnTransformer(remainder='passthrough',\n",
       "                                   transformers=[('onehotencoder',\n",
       "                                                  OneHotEncoder(sparse=False),\n",
       "                                                  ['weather_description'])])),\n",
       "                ('standardscaler', StandardScaler())])</pre></div></div></div><div class=\"sk-serial\"><div class=\"sk-item\"><div class=\"sk-estimator sk-toggleable\"><input class=\"sk-toggleable__control sk-hidden--visually\" id=\"5b7465e2-1700-406f-9d34-0c7ceb3dff5e\" type=\"checkbox\" ><label class=\"sk-toggleable__label\" for=\"5b7465e2-1700-406f-9d34-0c7ceb3dff5e\">DropCol</label><div class=\"sk-toggleable__content\"><pre>DropCol()</pre></div></div></div><div class=\"sk-item sk-dashed-wrapped\"><div class=\"sk-label-container\"><div class=\"sk-label sk-toggleable\"><input class=\"sk-toggleable__control sk-hidden--visually\" id=\"b52387ff-1c0b-4598-9b0b-d61500ed94ea\" type=\"checkbox\" ><label class=\"sk-toggleable__label\" for=\"b52387ff-1c0b-4598-9b0b-d61500ed94ea\">columntransformer: ColumnTransformer</label><div class=\"sk-toggleable__content\"><pre>ColumnTransformer(remainder='passthrough',\n",
       "                  transformers=[('onehotencoder', OneHotEncoder(sparse=False),\n",
       "                                 ['weather_description'])])</pre></div></div></div><div class=\"sk-parallel\"><div class=\"sk-parallel-item\"><div class=\"sk-item\"><div class=\"sk-label-container\"><div class=\"sk-label sk-toggleable\"><input class=\"sk-toggleable__control sk-hidden--visually\" id=\"ac4e4395-cb9f-479f-b40d-08bd85c022f1\" type=\"checkbox\" ><label class=\"sk-toggleable__label\" for=\"ac4e4395-cb9f-479f-b40d-08bd85c022f1\">onehotencoder</label><div class=\"sk-toggleable__content\"><pre>['weather_description']</pre></div></div></div><div class=\"sk-serial\"><div class=\"sk-item\"><div class=\"sk-estimator sk-toggleable\"><input class=\"sk-toggleable__control sk-hidden--visually\" id=\"de93e210-118e-4ee5-8d56-73aabd0908e2\" type=\"checkbox\" ><label class=\"sk-toggleable__label\" for=\"de93e210-118e-4ee5-8d56-73aabd0908e2\">OneHotEncoder</label><div class=\"sk-toggleable__content\"><pre>OneHotEncoder(sparse=False)</pre></div></div></div></div></div></div><div class=\"sk-parallel-item\"><div class=\"sk-item\"><div class=\"sk-label-container\"><div class=\"sk-label sk-toggleable\"><input class=\"sk-toggleable__control sk-hidden--visually\" id=\"befe643f-cedd-4e60-aa98-5ac6c6d118ae\" type=\"checkbox\" ><label class=\"sk-toggleable__label\" for=\"befe643f-cedd-4e60-aa98-5ac6c6d118ae\">remainder</label><div class=\"sk-toggleable__content\"><pre>['time', 'temp', 'pressure', 'humidity', 'clouds', 'wind_speed']</pre></div></div></div><div class=\"sk-serial\"><div class=\"sk-item\"><div class=\"sk-estimator sk-toggleable\"><input class=\"sk-toggleable__control sk-hidden--visually\" id=\"36b2e892-e6a8-46b7-8c3c-9f2b9323060a\" type=\"checkbox\" ><label class=\"sk-toggleable__label\" for=\"36b2e892-e6a8-46b7-8c3c-9f2b9323060a\">passthrough</label><div class=\"sk-toggleable__content\"><pre>passthrough</pre></div></div></div></div></div></div></div></div><div class=\"sk-item\"><div class=\"sk-estimator sk-toggleable\"><input class=\"sk-toggleable__control sk-hidden--visually\" id=\"e4e9e397-242a-4836-8b9b-caf8120c4629\" type=\"checkbox\" ><label class=\"sk-toggleable__label\" for=\"e4e9e397-242a-4836-8b9b-caf8120c4629\">StandardScaler</label><div class=\"sk-toggleable__content\"><pre>StandardScaler()</pre></div></div></div></div></div><div class=\"sk-item\"><div class=\"sk-estimator sk-toggleable\"><input class=\"sk-toggleable__control sk-hidden--visually\" id=\"2a85a17e-5911-4a7d-af0f-b1c990f5c53b\" type=\"checkbox\" ><label class=\"sk-toggleable__label\" for=\"2a85a17e-5911-4a7d-af0f-b1c990f5c53b\">LogisticRegression</label><div class=\"sk-toggleable__content\"><pre>LogisticRegression(multi_class='multinomial')</pre></div></div></div></div></div></div></div>"
      ],
      "text/plain": [
       "Pipeline(steps=[('pipeline',\n",
       "                 Pipeline(steps=[('dropcol', DropCol()),\n",
       "                                 ('columntransformer',\n",
       "                                  ColumnTransformer(remainder='passthrough',\n",
       "                                                    transformers=[('onehotencoder',\n",
       "                                                                   OneHotEncoder(sparse=False),\n",
       "                                                                   ['weather_description'])])),\n",
       "                                 ('standardscaler', StandardScaler())])),\n",
       "                ('logisticregression',\n",
       "                 LogisticRegression(multi_class='multinomial'))])"
      ]
     },
     "execution_count": 37,
     "metadata": {},
     "output_type": "execute_result"
    }
   ],
   "source": [
    "full_pipeline = make_pipeline(preprocess_pipe,LogisticRegression(multi_class = 'multinomial'))\n",
    "full_pipeline"
   ]
  },
  {
   "cell_type": "code",
   "execution_count": 38,
   "metadata": {
    "ExecuteTime": {
     "end_time": "2021-01-15T15:48:49.381835Z",
     "start_time": "2021-01-15T15:48:48.566740Z"
    }
   },
   "outputs": [],
   "source": [
    "model = full_pipeline.fit(X_train,Y_train)"
   ]
  },
  {
   "cell_type": "markdown",
   "metadata": {
    "ExecuteTime": {
     "end_time": "2021-01-15T16:03:41.734387Z",
     "start_time": "2021-01-15T16:03:41.726221Z"
    }
   },
   "source": [
    "### Kết quả dự đoán với tập huấn luyện"
   ]
  },
  {
   "cell_type": "code",
   "execution_count": 39,
   "metadata": {
    "ExecuteTime": {
     "end_time": "2021-01-15T15:48:50.401473Z",
     "start_time": "2021-01-15T15:48:49.385839Z"
    }
   },
   "outputs": [
    {
     "data": {
      "text/plain": [
       "0.5681211041852182"
      ]
     },
     "execution_count": 39,
     "metadata": {},
     "output_type": "execute_result"
    }
   ],
   "source": [
    "train_predict = model.predict(X_train)\n",
    "model.score(X_train,Y_train)"
   ]
  },
  {
   "cell_type": "markdown",
   "metadata": {},
   "source": [
    "### Kết quả dự đoán với tập kiểm tra"
   ]
  },
  {
   "cell_type": "code",
   "execution_count": 40,
   "metadata": {
    "ExecuteTime": {
     "end_time": "2021-01-15T15:48:50.547832Z",
     "start_time": "2021-01-15T15:48:50.405355Z"
    }
   },
   "outputs": [
    {
     "data": {
      "text/plain": [
       "0.501779359430605"
      ]
     },
     "execution_count": 40,
     "metadata": {},
     "output_type": "execute_result"
    }
   ],
   "source": [
    "model.score(X_test,Y_test)"
   ]
  },
  {
   "cell_type": "markdown",
   "metadata": {},
   "source": [
    "### Độ tương quan giữa các nhãn và các trường dữ liệu"
   ]
  },
  {
   "cell_type": "code",
   "execution_count": 49,
   "metadata": {
    "ExecuteTime": {
     "end_time": "2021-01-15T16:00:11.353389Z",
     "start_time": "2021-01-15T16:00:11.345804Z"
    }
   },
   "outputs": [
    {
     "data": {
      "text/plain": [
       "array([[-0.26209925,  0.10383036,  0.32762125, -0.12202067, -0.18333382,\n",
       "        -0.02213476, -0.18772361, -0.12283337,  0.44170342,  0.20161079,\n",
       "        -0.1058428 ],\n",
       "       [ 0.21914939,  0.08247298, -0.03154584,  0.08965051, -0.21818318,\n",
       "        -0.14884575, -0.55252929,  0.23758466, -0.44088634, -0.20541454,\n",
       "         0.27516014],\n",
       "       [ 0.13133613, -0.46890889, -0.11274814,  0.07603788,  0.31641344,\n",
       "        -0.21523346, -0.00617152,  0.24138041,  0.15942732, -0.71483593,\n",
       "        -0.15000299],\n",
       "       [ 0.2694991 ,  0.59752876, -0.69455012,  0.35873992, -0.01679309,\n",
       "         0.76164655,  1.23509089,  0.68839912, -0.09051834,  0.1784852 ,\n",
       "        -0.07027767],\n",
       "       [-0.35788537, -0.31492321,  0.51122285, -0.40240763,  0.10189666,\n",
       "        -0.37543258, -0.48866647, -1.04453083, -0.06972606,  0.54015448,\n",
       "         0.05096331]])"
      ]
     },
     "execution_count": 49,
     "metadata": {},
     "output_type": "execute_result"
    }
   ],
   "source": [
    "model['logisticregression'].coef_"
   ]
  },
  {
   "cell_type": "markdown",
   "metadata": {},
   "source": [
    "Mô hình không thể sử dụng được vì độ tương quan giữa các nhãn và các trường dữ liệu quá thấp dẫn đến kết quả kém"
   ]
  },
  {
   "cell_type": "markdown",
   "metadata": {
    "ExecuteTime": {
     "end_time": "2021-01-15T15:33:48.793408Z",
     "start_time": "2021-01-15T15:33:48.785757Z"
    }
   },
   "source": [
    "## Full pipeline với naive bayes classifier"
   ]
  },
  {
   "cell_type": "code",
   "execution_count": 50,
   "metadata": {
    "ExecuteTime": {
     "end_time": "2021-01-15T16:00:11.369246Z",
     "start_time": "2021-01-15T16:00:11.362345Z"
    }
   },
   "outputs": [],
   "source": [
    "from sklearn.naive_bayes import GaussianNB"
   ]
  },
  {
   "cell_type": "code",
   "execution_count": 51,
   "metadata": {
    "ExecuteTime": {
     "end_time": "2021-01-15T16:00:11.494110Z",
     "start_time": "2021-01-15T16:00:11.373297Z"
    }
   },
   "outputs": [
    {
     "data": {
      "text/html": [
       "<style>div.sk-top-container {color: black;background-color: white;}div.sk-toggleable {background-color: white;}label.sk-toggleable__label {cursor: pointer;display: block;width: 100%;margin-bottom: 0;padding: 0.2em 0.3em;box-sizing: border-box;text-align: center;}div.sk-toggleable__content {max-height: 0;max-width: 0;overflow: hidden;text-align: left;background-color: #f0f8ff;}div.sk-toggleable__content pre {margin: 0.2em;color: black;border-radius: 0.25em;background-color: #f0f8ff;}input.sk-toggleable__control:checked~div.sk-toggleable__content {max-height: 200px;max-width: 100%;overflow: auto;}div.sk-estimator input.sk-toggleable__control:checked~label.sk-toggleable__label {background-color: #d4ebff;}div.sk-label input.sk-toggleable__control:checked~label.sk-toggleable__label {background-color: #d4ebff;}input.sk-hidden--visually {border: 0;clip: rect(1px 1px 1px 1px);clip: rect(1px, 1px, 1px, 1px);height: 1px;margin: -1px;overflow: hidden;padding: 0;position: absolute;width: 1px;}div.sk-estimator {font-family: monospace;background-color: #f0f8ff;margin: 0.25em 0.25em;border: 1px dotted black;border-radius: 0.25em;box-sizing: border-box;}div.sk-estimator:hover {background-color: #d4ebff;}div.sk-parallel-item::after {content: \"\";width: 100%;border-bottom: 1px solid gray;flex-grow: 1;}div.sk-label:hover label.sk-toggleable__label {background-color: #d4ebff;}div.sk-serial::before {content: \"\";position: absolute;border-left: 1px solid gray;box-sizing: border-box;top: 2em;bottom: 0;left: 50%;}div.sk-serial {display: flex;flex-direction: column;align-items: center;background-color: white;}div.sk-item {z-index: 1;}div.sk-parallel {display: flex;align-items: stretch;justify-content: center;background-color: white;}div.sk-parallel-item {display: flex;flex-direction: column;position: relative;background-color: white;}div.sk-parallel-item:first-child::after {align-self: flex-end;width: 50%;}div.sk-parallel-item:last-child::after {align-self: flex-start;width: 50%;}div.sk-parallel-item:only-child::after {width: 0;}div.sk-dashed-wrapped {border: 1px dashed gray;margin: 0.2em;box-sizing: border-box;padding-bottom: 0.1em;background-color: white;position: relative;}div.sk-label label {font-family: monospace;font-weight: bold;background-color: white;display: inline-block;line-height: 1.2em;}div.sk-label-container {position: relative;z-index: 2;text-align: center;}div.sk-container {display: inline-block;position: relative;}</style><div class=\"sk-top-container\"><div class=\"sk-container\"><div class=\"sk-item sk-dashed-wrapped\"><div class=\"sk-label-container\"><div class=\"sk-label sk-toggleable\"><input class=\"sk-toggleable__control sk-hidden--visually\" id=\"b93680fc-5efb-4dad-a1b8-32d65eef76e1\" type=\"checkbox\" ><label class=\"sk-toggleable__label\" for=\"b93680fc-5efb-4dad-a1b8-32d65eef76e1\">Pipeline</label><div class=\"sk-toggleable__content\"><pre>Pipeline(steps=[('pipeline',\n",
       "                 Pipeline(steps=[('dropcol', DropCol()),\n",
       "                                 ('columntransformer',\n",
       "                                  ColumnTransformer(remainder='passthrough',\n",
       "                                                    transformers=[('onehotencoder',\n",
       "                                                                   OneHotEncoder(sparse=False),\n",
       "                                                                   ['weather_description'])])),\n",
       "                                 ('standardscaler', StandardScaler())])),\n",
       "                ('gaussiannb', GaussianNB())])</pre></div></div></div><div class=\"sk-serial\"><div class=\"sk-item\"><div class=\"sk-label-container\"><div class=\"sk-label sk-toggleable\"><input class=\"sk-toggleable__control sk-hidden--visually\" id=\"a37493f0-57ca-493a-902e-d6f536563079\" type=\"checkbox\" ><label class=\"sk-toggleable__label\" for=\"a37493f0-57ca-493a-902e-d6f536563079\">pipeline: Pipeline</label><div class=\"sk-toggleable__content\"><pre>Pipeline(steps=[('dropcol', DropCol()),\n",
       "                ('columntransformer',\n",
       "                 ColumnTransformer(remainder='passthrough',\n",
       "                                   transformers=[('onehotencoder',\n",
       "                                                  OneHotEncoder(sparse=False),\n",
       "                                                  ['weather_description'])])),\n",
       "                ('standardscaler', StandardScaler())])</pre></div></div></div><div class=\"sk-serial\"><div class=\"sk-item\"><div class=\"sk-estimator sk-toggleable\"><input class=\"sk-toggleable__control sk-hidden--visually\" id=\"743577ec-2cb9-4a4b-9b05-75cc9dde52a3\" type=\"checkbox\" ><label class=\"sk-toggleable__label\" for=\"743577ec-2cb9-4a4b-9b05-75cc9dde52a3\">DropCol</label><div class=\"sk-toggleable__content\"><pre>DropCol()</pre></div></div></div><div class=\"sk-item sk-dashed-wrapped\"><div class=\"sk-label-container\"><div class=\"sk-label sk-toggleable\"><input class=\"sk-toggleable__control sk-hidden--visually\" id=\"6348ffef-2d15-4a7f-9b9a-f8edab10545f\" type=\"checkbox\" ><label class=\"sk-toggleable__label\" for=\"6348ffef-2d15-4a7f-9b9a-f8edab10545f\">columntransformer: ColumnTransformer</label><div class=\"sk-toggleable__content\"><pre>ColumnTransformer(remainder='passthrough',\n",
       "                  transformers=[('onehotencoder', OneHotEncoder(sparse=False),\n",
       "                                 ['weather_description'])])</pre></div></div></div><div class=\"sk-parallel\"><div class=\"sk-parallel-item\"><div class=\"sk-item\"><div class=\"sk-label-container\"><div class=\"sk-label sk-toggleable\"><input class=\"sk-toggleable__control sk-hidden--visually\" id=\"9df096b4-16a1-4295-af15-458d4578d073\" type=\"checkbox\" ><label class=\"sk-toggleable__label\" for=\"9df096b4-16a1-4295-af15-458d4578d073\">onehotencoder</label><div class=\"sk-toggleable__content\"><pre>['weather_description']</pre></div></div></div><div class=\"sk-serial\"><div class=\"sk-item\"><div class=\"sk-estimator sk-toggleable\"><input class=\"sk-toggleable__control sk-hidden--visually\" id=\"09d4336b-753f-4eb9-ade9-0913c86504ec\" type=\"checkbox\" ><label class=\"sk-toggleable__label\" for=\"09d4336b-753f-4eb9-ade9-0913c86504ec\">OneHotEncoder</label><div class=\"sk-toggleable__content\"><pre>OneHotEncoder(sparse=False)</pre></div></div></div></div></div></div><div class=\"sk-parallel-item\"><div class=\"sk-item\"><div class=\"sk-label-container\"><div class=\"sk-label sk-toggleable\"><input class=\"sk-toggleable__control sk-hidden--visually\" id=\"6ccaa7bd-d21b-4a3d-9b7f-ad03b1420faf\" type=\"checkbox\" ><label class=\"sk-toggleable__label\" for=\"6ccaa7bd-d21b-4a3d-9b7f-ad03b1420faf\">remainder</label><div class=\"sk-toggleable__content\"><pre>['time', 'temp', 'pressure', 'humidity', 'clouds', 'wind_speed']</pre></div></div></div><div class=\"sk-serial\"><div class=\"sk-item\"><div class=\"sk-estimator sk-toggleable\"><input class=\"sk-toggleable__control sk-hidden--visually\" id=\"efa2da2a-30fd-44c6-a583-8c5d10a734ec\" type=\"checkbox\" ><label class=\"sk-toggleable__label\" for=\"efa2da2a-30fd-44c6-a583-8c5d10a734ec\">passthrough</label><div class=\"sk-toggleable__content\"><pre>passthrough</pre></div></div></div></div></div></div></div></div><div class=\"sk-item\"><div class=\"sk-estimator sk-toggleable\"><input class=\"sk-toggleable__control sk-hidden--visually\" id=\"190a26e3-91e5-491e-be26-7109510dcb09\" type=\"checkbox\" ><label class=\"sk-toggleable__label\" for=\"190a26e3-91e5-491e-be26-7109510dcb09\">StandardScaler</label><div class=\"sk-toggleable__content\"><pre>StandardScaler()</pre></div></div></div></div></div><div class=\"sk-item\"><div class=\"sk-estimator sk-toggleable\"><input class=\"sk-toggleable__control sk-hidden--visually\" id=\"9136680b-e793-4735-a7cd-0552320eb2ed\" type=\"checkbox\" ><label class=\"sk-toggleable__label\" for=\"9136680b-e793-4735-a7cd-0552320eb2ed\">GaussianNB</label><div class=\"sk-toggleable__content\"><pre>GaussianNB()</pre></div></div></div></div></div></div></div>"
      ],
      "text/plain": [
       "Pipeline(steps=[('pipeline',\n",
       "                 Pipeline(steps=[('dropcol', DropCol()),\n",
       "                                 ('columntransformer',\n",
       "                                  ColumnTransformer(remainder='passthrough',\n",
       "                                                    transformers=[('onehotencoder',\n",
       "                                                                   OneHotEncoder(sparse=False),\n",
       "                                                                   ['weather_description'])])),\n",
       "                                 ('standardscaler', StandardScaler())])),\n",
       "                ('gaussiannb', GaussianNB())])"
      ]
     },
     "execution_count": 51,
     "metadata": {},
     "output_type": "execute_result"
    }
   ],
   "source": [
    "full_pipeline = make_pipeline(preprocess_pipe,GaussianNB())\n",
    "full_pipeline"
   ]
  },
  {
   "cell_type": "code",
   "execution_count": 52,
   "metadata": {
    "ExecuteTime": {
     "end_time": "2021-01-15T16:00:12.234921Z",
     "start_time": "2021-01-15T16:00:11.499434Z"
    }
   },
   "outputs": [],
   "source": [
    "model = full_pipeline.fit(X_train,Y_train)"
   ]
  },
  {
   "cell_type": "markdown",
   "metadata": {
    "ExecuteTime": {
     "end_time": "2021-01-15T16:08:25.180379Z",
     "start_time": "2021-01-15T16:08:25.173053Z"
    }
   },
   "source": [
    "### Kết quả dự đoán với tập huấn luyện"
   ]
  },
  {
   "cell_type": "code",
   "execution_count": 53,
   "metadata": {
    "ExecuteTime": {
     "end_time": "2021-01-15T16:00:12.752753Z",
     "start_time": "2021-01-15T16:00:12.238888Z"
    }
   },
   "outputs": [
    {
     "data": {
      "text/plain": [
       "0.4514692787177204"
      ]
     },
     "execution_count": 53,
     "metadata": {},
     "output_type": "execute_result"
    }
   ],
   "source": [
    "model.score(X_train,Y_train)"
   ]
  },
  {
   "cell_type": "markdown",
   "metadata": {},
   "source": [
    "### Kết quả dự đoán với tập kiểm tra"
   ]
  },
  {
   "cell_type": "code",
   "execution_count": 54,
   "metadata": {
    "ExecuteTime": {
     "end_time": "2021-01-15T16:00:12.876081Z",
     "start_time": "2021-01-15T16:00:12.754156Z"
    }
   },
   "outputs": [
    {
     "data": {
      "text/plain": [
       "0.38434163701067614"
      ]
     },
     "execution_count": 54,
     "metadata": {},
     "output_type": "execute_result"
    }
   ],
   "source": [
    "model.score(X_test,Y_test)"
   ]
  },
  {
   "cell_type": "markdown",
   "metadata": {},
   "source": [
    "Mô hình với naive bayes có vẻ cũng không sử dụng được"
   ]
  },
  {
   "cell_type": "markdown",
   "metadata": {},
   "source": [
    "# Tạm kết luận: \n",
    "- không thể dự đoán trước thời tiết khi mà chỉ biết được dữ liệu trong một giờ của 12 tiếng trước được"
   ]
  },
  {
   "cell_type": "markdown",
   "metadata": {},
   "source": [
    "# Nhìn lại đồ án"
   ]
  },
  {
   "cell_type": "markdown",
   "metadata": {},
   "source": [
    "## Khó khăn\n",
    "- Lựa chọn mô hình cho bài toán vì tụi em lỡ chọn hướng đi hơi sai nên khó khăn trong việc lựa chọn mô hình và dẫn đến thất bại"
   ]
  },
  {
   "cell_type": "markdown",
   "metadata": {},
   "source": [
    "## Học được\n",
    "- Chúng em đã có cơ hội để rèn luyện thêm việc tiền xử lí dữ liệu, tìm hiểu về một số thuật toán phân lớp\n",
    "- Rèn luyện cách sử dụng pipeline mà nhìn chung em thấy khổ lúc đầu nhưng sướng lúc sau"
   ]
  },
  {
   "cell_type": "markdown",
   "metadata": {},
   "source": [
    "## Nếu có thêm thời gian\n",
    "- Chúng em định chọn hướng đi khác bằng cách dùng dữ liệu của 3 ngày trước đó để dự đoán từng trường dữ liệu của ngày hôm nay, rồi lại tiếp tục dùng thuật toán phân lớp tương tự như trên với các trường dữ liệu đã được dự đoán để dự đoán mô tả thời tiết chung của 3 ngày sau đó, nhưng có vẻ khá dài nên không thể làm thêm được"
   ]
  }
 ],
 "metadata": {
  "kernelspec": {
   "display_name": "Python 3",
   "language": "python",
   "name": "python3"
  },
  "language_info": {
   "codemirror_mode": {
    "name": "ipython",
    "version": 3
   },
   "file_extension": ".py",
   "mimetype": "text/x-python",
   "name": "python",
   "nbconvert_exporter": "python",
   "pygments_lexer": "ipython3",
   "version": "3.7.6"
  },
  "toc": {
   "base_numbering": 1,
   "nav_menu": {},
   "number_sections": true,
   "sideBar": true,
   "skip_h1_title": false,
   "title_cell": "Table of Contents",
   "title_sidebar": "Contents",
   "toc_cell": false,
   "toc_position": {
    "height": "calc(100% - 180px)",
    "left": "10px",
    "top": "150px",
    "width": "273.188px"
   },
   "toc_section_display": true,
   "toc_window_display": true
  },
  "varInspector": {
   "cols": {
    "lenName": 16,
    "lenType": 16,
    "lenVar": 40
   },
   "kernels_config": {
    "python": {
     "delete_cmd_postfix": "",
     "delete_cmd_prefix": "del ",
     "library": "var_list.py",
     "varRefreshCmd": "print(var_dic_list())"
    },
    "r": {
     "delete_cmd_postfix": ") ",
     "delete_cmd_prefix": "rm(",
     "library": "var_list.r",
     "varRefreshCmd": "cat(var_dic_list()) "
    }
   },
   "types_to_exclude": [
    "module",
    "function",
    "builtin_function_or_method",
    "instance",
    "_Feature"
   ],
   "window_display": false
  }
 },
 "nbformat": 4,
 "nbformat_minor": 4
}
